{
  "nbformat": 4,
  "nbformat_minor": 0,
  "metadata": {
    "colab": {
      "provenance": [],
      "authorship_tag": "ABX9TyNJcN0PIoy/y1PWJcDbDpp1",
      "include_colab_link": true
    },
    "kernelspec": {
      "name": "python3",
      "display_name": "Python 3"
    },
    "language_info": {
      "name": "python"
    }
  },
  "cells": [
    {
      "cell_type": "markdown",
      "metadata": {
        "id": "view-in-github",
        "colab_type": "text"
      },
      "source": [
        "<a href=\"https://colab.research.google.com/github/Maggiesyh/Colab_1/blob/main/110080574_%E8%A8%B1%E6%B7%91%E7%91%97_HW3.ipynb\" target=\"_parent\"><img src=\"https://colab.research.google.com/assets/colab-badge.svg\" alt=\"Open In Colab\"/></a>"
      ]
    },
    {
      "cell_type": "code",
      "source": [
        "#HW4.4\n",
        "#避開4樓這個數\n",
        "n = int(input(\"請輸入正整數:\"))\n",
        "for i in range(1, n+1):\n",
        "  if i == 4:\n",
        "    continue\n",
        "  print(i, end=\" \")"
      ],
      "metadata": {
        "colab": {
          "base_uri": "https://localhost:8080/"
        },
        "id": "eU-YCWx-usgT",
        "outputId": "953c30dc-72b3-4b67-b5e5-96089f6c69e8"
      },
      "execution_count": 83,
      "outputs": [
        {
          "output_type": "stream",
          "name": "stdout",
          "text": [
            "請輸入正整數:10\n",
            "1 2 3 5 6 7 8 9 10 "
          ]
        }
      ]
    },
    {
      "cell_type": "code",
      "source": [
        "#HW4.5\n",
        "#1 & #2\n",
        "#先判斷是否輸入成績，如果要請輸入yes並依序輸入期中與期末考成績，否則輸入no取消輸入成績。\n",
        "#第一次輸入為1號同學Exam1、Midterm、Exam2與Final成績，第二次輸入為2號同學Exam1、Midterm、Exam2與Final成績，以此類推。\n",
        "#Exam1、Midterm、Exam2與Final滿分各為100，Semester grades= Exam1*20+Midterm*30+Exam2*20+Final*30。\n",
        "#1.請印出座號、Exam1、Midterm、Exam2、Final與Semester grades。(至少輸入三位同學)\n",
        "#2.請印出Exam1、Midterm、Exam2、Final的每一項平均與標準差。\n",
        "import numpy as np\n",
        "Test_name = ['Exam1','Midterm','Exam2','Final']\n",
        "\n",
        "grade_list = []\n",
        "count = 0\n",
        "while True:\n",
        "    count = count + 1\n",
        "    tip = input(\"是否輸入%d號同學成績yes or no\" % count)\n",
        "    if tip == 'yes':\n",
        "        student_list = []\n",
        "        for i in Test_name:\n",
        "            score = float(input(i))\n",
        "            student_list.append(score)\n",
        "        grade_list.append(student_list)\n",
        "    elif tip == 'no':\n",
        "        break\n",
        "print(\"\\n\")\n",
        "print(\"#1.印出座號、Exam1、Midterm、Exam2、Final與Semester grades,用Numpy顯示成績:\")\n",
        "grade_numpy = np.array(grade_list)\n",
        "#print(grade_list)\n",
        "score_mean = np.mean(grade_list,0)\n",
        "\n",
        "score_std = np.std(grade_list,0)\n",
        "\n",
        "count = 0\n",
        "for i in grade_numpy:\n",
        "    count = count + 1\n",
        "    s_grade = i[0]*0.2 + i[1]*0.3+i[2]*0.2 + i[3]*0.3\n",
        "    print(count,\"號同學的Exam1,Midterm,Exam2,Final,與Semester grades成績依序為:\",i[0],i[1],i[2],i[3],s_grade)\n",
        "   #print(i)\n",
        "print(\"\\n\")\n",
        "print(\"#2.印出Exam1、Midterm、Exam2、Final的每一項平均與標準差:\")\n",
        "print(\"Exam1,Midterm,Exam2,Final每一項的平均分別為：\",score_mean[0],score_mean[1],score_mean[2],score_mean[3])\n",
        "print(\"Exam1,Midterm,Exam2,Final每一項的標準差分別為：\",score_std[0],score_std[1],score_std[2],score_std[3])"
      ],
      "metadata": {
        "id": "jkECmvvuOcDz",
        "colab": {
          "base_uri": "https://localhost:8080/"
        },
        "outputId": "3a9fd929-7dc4-48b5-bf7f-48810c2cff0e"
      },
      "execution_count": 86,
      "outputs": [
        {
          "output_type": "stream",
          "name": "stdout",
          "text": [
            "是否輸入1號同學成績yes or noyes\n",
            "Exam180\n",
            "Midterm80\n",
            "Exam290\n",
            "Final100\n",
            "是否輸入2號同學成績yes or noyes\n",
            "Exam190\n",
            "Midterm90\n",
            "Exam290\n",
            "Final100\n",
            "是否輸入3號同學成績yes or noyes\n",
            "Exam170\n",
            "Midterm70\n",
            "Exam280\n",
            "Final90\n",
            "是否輸入4號同學成績yes or nono\n",
            "\n",
            "\n",
            "#1.印出座號、Exam1、Midterm、Exam2、Final與Semester grades,用Numpy顯示成績:\n",
            "1 號同學的Exam1,Midterm,Exam2,Final,與Semester grades成績依序為: 80.0 80.0 90.0 100.0 88.0\n",
            "2 號同學的Exam1,Midterm,Exam2,Final,與Semester grades成績依序為: 90.0 90.0 90.0 100.0 93.0\n",
            "3 號同學的Exam1,Midterm,Exam2,Final,與Semester grades成績依序為: 70.0 70.0 80.0 90.0 78.0\n",
            "\n",
            "\n",
            "#2.印出Exam1、Midterm、Exam2、Final的每一項平均與標準差:\n",
            "Exam1,Midterm,Exam2,Final每一項的平均分別為： 80.0 80.0 86.66666666666667 96.66666666666667\n",
            "Exam1,Midterm,Exam2,Final每一項的標準差分別為： 8.16496580927726 8.16496580927726 4.714045207910316 4.714045207910316\n"
          ]
        }
      ]
    },
    {
      "cell_type": "code",
      "source": [
        "#HW4.6\n",
        "#1.1 N=10 A=?\n",
        "import math\n",
        "N = int(input(\"輸入N, 當 N = \"))\n",
        "count = 0\n",
        "for i in range(1,N+1):\n",
        "   count = count + (1 / (i** 2))\n",
        "\n",
        "print(\"A =\", count)\n",
        ""
      ],
      "metadata": {
        "colab": {
          "base_uri": "https://localhost:8080/"
        },
        "id": "9uxufGUgfgVr",
        "outputId": "f414b0dc-5e09-49c3-b1fc-f7e64bdc207d"
      },
      "execution_count": 88,
      "outputs": [
        {
          "output_type": "stream",
          "name": "stdout",
          "text": [
            "輸入N, 當 N = 10\n",
            "A = 1.5497677311665408\n"
          ]
        }
      ]
    },
    {
      "cell_type": "code",
      "source": [
        "#HW4.6\n",
        "#1.2 N=50 A=?\n",
        "import math\n",
        "N = int(input(\"輸入N, 當 N = \"))\n",
        "count = 0\n",
        "for i in range(1,N+1):\n",
        "   count = count + (1 / (i** 2))\n",
        "\n",
        "print(\"A =\", count)"
      ],
      "metadata": {
        "colab": {
          "base_uri": "https://localhost:8080/"
        },
        "id": "I1gfi95hK6Xz",
        "outputId": "b8b4b2ce-0b16-409c-ea0e-80f3f71226d4"
      },
      "execution_count": 93,
      "outputs": [
        {
          "output_type": "stream",
          "name": "stdout",
          "text": [
            "輸入N, 當 N = 50\n",
            "A = 1.625132733621529\n"
          ]
        }
      ]
    },
    {
      "cell_type": "code",
      "source": [
        "#HW4.6\n",
        "#2 A(inf)=(pi**2)/6, abs(A(inf)-A(N)) < 0.01, N = ??\n",
        "import math\n",
        "#N = int(input(\"輸入 N = \"))\n",
        "while 1:\n",
        "  count = 0\n",
        "  for i in range(1,N+1):\n",
        "    count = count + (1 / (i** 2))\n",
        "\n",
        "#print(\"A =\", count)\n",
        "  A_inf = (math.pi**2)/6\n",
        "  if np.absolute(A_inf-count) < 0.01:\n",
        "    print(\"第幾個N會讓|A(inf)-A(N)|的值開始 < 0.01 ?\")\n",
        "    print(\"N = \",N)\n",
        "    break\n"
      ],
      "metadata": {
        "colab": {
          "base_uri": "https://localhost:8080/"
        },
        "id": "gudg_GnNTCCM",
        "outputId": "266aac4c-07e5-427a-ab7c-143fd1632bcb"
      },
      "execution_count": 111,
      "outputs": [
        {
          "output_type": "stream",
          "name": "stdout",
          "text": [
            "第幾個N會讓|A(inf)-A(N)|的值開始 < 0.01 ?\n",
            "N =  100\n"
          ]
        }
      ]
    },
    {
      "cell_type": "code",
      "source": [
        "#HW4.7\n",
        "#小朋友在玩「大富翁」桌遊，遊戲者要連擲三次骰子，然後以總點數決定遊戲前進步數。\n",
        "#遊戲時小朋友發現骰子不見了，請設計程式以亂數函式擲骰子三次，然後計算三次骰子點數的總和。\n",
        "#你三次擲骰子的點數為 6 2 4，總點數為:12\n",
        "import random\n",
        "num_ttl = 0\n",
        "while True:\n",
        "  inkey = input(\"按任意鍵 再按[ENTER]鍵連續擲三次骰子,直接 按[ENTER]鍵結束:\")\n",
        "  if inkey != \"\":\n",
        "    num_1 = random.randint(1,6)\n",
        "    num_2 = random.randint(1,6)\n",
        "    num_3 = random.randint(1,6)\n",
        "    num_ttl = num_1+num_2+num_3\n",
        "    print(\"你三次擲骰子的點數為:\" + str(num_1), str(num_2), str(num_3), \"總點數為:\",str(num_ttl),\"\\n\")\n",
        "  else:\n",
        "    print(\"遊戲結束!\")\n",
        "    break"
      ],
      "metadata": {
        "colab": {
          "base_uri": "https://localhost:8080/"
        },
        "id": "fw3nhTcCaDEf",
        "outputId": "2329fdf3-b3f9-4d1d-d5ee-7db367e53d39"
      },
      "execution_count": 87,
      "outputs": [
        {
          "output_type": "stream",
          "name": "stdout",
          "text": [
            "按任意鍵 再按[ENTER]鍵連續擲三次骰子,直接 按[ENTER]鍵結束: \n",
            "你三次擲骰子的點數為:1 6 1 總點數為: 8 \n",
            "\n",
            "按任意鍵 再按[ENTER]鍵連續擲三次骰子,直接 按[ENTER]鍵結束: \n",
            "你三次擲骰子的點數為:5 1 1 總點數為: 7 \n",
            "\n",
            "按任意鍵 再按[ENTER]鍵連續擲三次骰子,直接 按[ENTER]鍵結束: \n",
            "你三次擲骰子的點數為:2 6 4 總點數為: 12 \n",
            "\n",
            "按任意鍵 再按[ENTER]鍵連續擲三次骰子,直接 按[ENTER]鍵結束:\n",
            "遊戲結束!\n"
          ]
        }
      ]
    },
    {
      "cell_type": "code",
      "source": [
        "#HW4.8 四星彩中獎號碼\n",
        "#四星彩中獎號碼為 4 個 0 到 9 之間的數字組成 :\n",
        "#撰寫程式取得四星彩中獎號碼，並由小到大顯示方便對獎。\n",
        "#本期四星彩中獎號碼為:2, 5, 8, 9\n",
        "import random\n",
        "\n",
        "list1 = random.sample(range(0,10), 4)\n",
        "#special = list1.pop()\n",
        "list1.sort()\n",
        "print(\"本期四星彩中獎號碼為:\", end=\"\")\n",
        "for i in range (0, 4):\n",
        "    if i < 3:\n",
        "        print(list1[i], end=\", \")\n",
        "    else:\n",
        "        print (list1[i])"
      ],
      "metadata": {
        "colab": {
          "base_uri": "https://localhost:8080/"
        },
        "id": "U4jK_Pemxeq4",
        "outputId": "64f2e1ab-5d3f-4821-8085-c8f5de99a557"
      },
      "execution_count": 17,
      "outputs": [
        {
          "output_type": "stream",
          "name": "stdout",
          "text": [
            "本期四星彩中獎號碼為:0, 1, 4, 8\n"
          ]
        }
      ]
    },
    {
      "cell_type": "code",
      "source": [
        "#HW4.9 比較數字大小\n",
        "#隨機印出兩副黑桃撲克牌並比較大小，印出數字大者\n",
        "#提示1:數字設定成 number = [1,2,3,4,5,6,7,8,9,10,11,12,13]\n",
        "#提示2:\n",
        "#>>> for i in range(2):\n",
        "#>>>    #a = random.randint(0, 3)\n",
        "#>>>    a = 0\n",
        "#>>>    b = random.randint(0, 12)\n",
        "#>>>    card.append([four_suits[a],number[b]])\n",
        "\n",
        "import random\n",
        "four_suits = ['spade', 'heart', 'diamond', 'club']\n",
        "#four_suits = ['黑桃','紅心','方塊','梅花']\n",
        "number = [1,2,3,4,5,6,7,8,9,10,11,12,13]\n",
        "card = []\n",
        "for i in range(2):\n",
        "  #a = random.randint(0, 3)\n",
        "  a = 0\n",
        "  b = random.randint(0, 12)\n",
        "  card.append([four_suits[a],number[b]])\n",
        "\n",
        "#print(card[0])\n",
        "#print(card[0][0],card[0][1])\n",
        "#print(card[1])\n",
        "#print(card[1][0],card[1][1])\n",
        "#print(card)\n",
        "card.sort() #由小到大排序\n",
        "#print(card) #由小到大列印\n",
        "#print(four_suits.index('spade'))\n",
        "print(\"隨機印出兩副黑桃撲克牌\", card)\n",
        "print(\"並比較大小 => \", card[1])"
      ],
      "metadata": {
        "colab": {
          "base_uri": "https://localhost:8080/"
        },
        "id": "8bEWOO7_3iGr",
        "outputId": "2b5ae86a-d898-4a11-a293-aba2ba44d401"
      },
      "execution_count": 77,
      "outputs": [
        {
          "output_type": "stream",
          "name": "stdout",
          "text": [
            "隨機印出兩副黑桃撲克牌 [['spade', 2], ['spade', 9]]\n",
            "並比較大小 =>  ['spade', 9]\n"
          ]
        }
      ]
    },
    {
      "cell_type": "code",
      "source": [
        "#HW4.10 比較相同數字的撲克牌的花色大小\n",
        "#隨機印出兩副數字相同的撲克牌並比較花色大小，印出花色大者。\n",
        "#(黑桃>紅心>方塊>梅花)\n",
        "\n",
        "import random\n",
        "four_suits = ['spade', 'heart', 'diamond', 'club']\n",
        "#four_suits = ['黑桃','紅心','方塊','梅花']\n",
        "number = [1,2,3,4,5,6,7,8,9,10,11,12,13]\n",
        "card = []\n",
        "b = random.randint(0, 12)\n",
        "for i in range(2):\n",
        "  a = random.randint(0, 3)\n",
        "  #a = 0\n",
        "  #b = random.randint(0, 12)\n",
        "  card.append([four_suits[a],number[b]])\n",
        "\n",
        "#print(card[0])\n",
        "#print(card[0][0],card[0][1])\n",
        "#print(card[1])\n",
        "#print(card[1][0],card[1][1])\n",
        "#print(card)\n",
        "card.sort(key = lambda x:(x[0])) #由小到大排序\n",
        "#print(card) #由小到大列印\n",
        "print(\"隨機印出兩副數字相同的撲克牌\", card)\n",
        "print(\"並比較花色大小 =>\", card[1])"
      ],
      "metadata": {
        "colab": {
          "base_uri": "https://localhost:8080/"
        },
        "id": "55szjF5n48kQ",
        "outputId": "edf2fcfe-f24d-4239-c867-4c95483318ac"
      },
      "execution_count": 72,
      "outputs": [
        {
          "output_type": "stream",
          "name": "stdout",
          "text": [
            "隨機印出兩副數字相同的撲克牌 [['heart', 8], ['spade', 8]]\n",
            "並比較花色大小 => ['spade', 8]\n"
          ]
        }
      ]
    },
    {
      "cell_type": "code",
      "source": [
        "#HW4.11\n",
        "#隨機印出兩副撲克牌並同時比較花色以及數字大小。\n",
        "#(黑桃>紅心>方塊>梅花)\n",
        "import random\n",
        "four_suits = ['spade', 'heart', 'diamond', 'club']\n",
        "#four_suits = ['黑桃','紅心','方塊','梅花']\n",
        "number = [1,2,3,4,5,6,7,8,9,10,11,12,13]\n",
        "card = []\n",
        "#b = random.randint(0, 12)\n",
        "n = 2\n",
        "for i in range(n):\n",
        "  a = random.randint(0, 3)\n",
        "  b = random.randint(0, 12)\n",
        "  card.append([four_suits[a],number[b]])\n",
        "\n",
        "#print(card[0])\n",
        "#print(card[0][0],card[0][1])\n",
        "#print(card[1])\n",
        "#print(card[1][0],card[1][1])\n",
        "#print(card)\n",
        "card.sort(key = lambda x:(x[0], x[1])) #由小到大排序，先比較花色再比較數字\n",
        "print(\"隨機印出兩副撲克牌\", card)\n",
        "#print(card) #由小到大列印\n",
        "print(\"並同時比較花色以及數字大小=>\", card[n-1])"
      ],
      "metadata": {
        "colab": {
          "base_uri": "https://localhost:8080/"
        },
        "id": "mm2NpfFf8JcN",
        "outputId": "d0f8e38b-2c90-408f-9f43-07160fe7e742"
      },
      "execution_count": 62,
      "outputs": [
        {
          "output_type": "stream",
          "name": "stdout",
          "text": [
            "隨機印出兩副撲克牌 [['diamond', 12], ['heart', 3]]\n",
            "並同時比較花色以及數字大小=> ['heart', 3]\n"
          ]
        }
      ]
    }
  ]
}