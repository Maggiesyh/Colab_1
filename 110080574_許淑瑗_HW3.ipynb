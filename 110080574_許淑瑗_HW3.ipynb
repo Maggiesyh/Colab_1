{
  "nbformat": 4,
  "nbformat_minor": 0,
  "metadata": {
    "colab": {
      "provenance": [],
      "authorship_tag": "ABX9TyPa+WAsoXXxD5lLpmi1sHjz",
      "include_colab_link": true
    },
    "kernelspec": {
      "name": "python3",
      "display_name": "Python 3"
    },
    "language_info": {
      "name": "python"
    }
  },
  "cells": [
    {
      "cell_type": "markdown",
      "metadata": {
        "id": "view-in-github",
        "colab_type": "text"
      },
      "source": [
        "<a href=\"https://colab.research.google.com/github/Maggiesyh/Colab_1/blob/main/110080574_%E8%A8%B1%E6%B7%91%E7%91%97_HW3.ipynb\" target=\"_parent\"><img src=\"https://colab.research.google.com/assets/colab-badge.svg\" alt=\"Open In Colab\"/></a>"
      ]
    },
    {
      "cell_type": "code",
      "execution_count": null,
      "metadata": {
        "colab": {
          "base_uri": "https://localhost:8080/"
        },
        "id": "KBy-EBqLNP-u",
        "outputId": "7f046a1b-bd42-43d6-8fd9-38b16fcb7184"
      },
      "outputs": [
        {
          "output_type": "stream",
          "name": "stdout",
          "text": [
            "輸入一個數字判斷是否為質數13\n",
            "13 是質數\n"
          ]
        }
      ],
      "source": [
        "#練習\n",
        "#輸入一個整數判斷是否為質數\n",
        "n = int(input(\"輸入一個數字判斷是否為質數\"))\n",
        "\n",
        "for i in range(2, n):\n",
        "    if n % i == 0:  #整除的話，i是n的因數，所以n不是質數。\n",
        "        break\n",
        "\n",
        "if n == 2:\n",
        "   print(n,\"是質數\")\n",
        "elif i != n-1:  #在2~n-1之間出現n的因數\n",
        "   print(n,\"不是質數\")\n",
        "else:\n",
        "   print(n,\"是質數\")"
      ]
    },
    {
      "cell_type": "code",
      "source": [
        "#練習\n",
        "#求100之內的質數\n",
        "p_list=[]\n",
        "x = int(input(\"輸入一個數字判斷是否為質數 \"))\n",
        "for n in range(2,x+1):\n",
        "  for i in range(2, n):\n",
        "     if n % i == 0:  #整除的話，i是n的因數，所以n不是質數。\n",
        "          break\n",
        "\n",
        "  if n == 2:\n",
        "     #print(n,\"是質數\")\n",
        "     p_list.append(n)\n",
        "  elif i != n-1:  #在2~n-1之間出現n的因數\n",
        "      p_list = p_list\n",
        "     #print(n,\"不是質數\")\n",
        "  else:\n",
        "      #print(n,\"是質數\")\n",
        "      p_list.append(n)\n",
        "print(p_list)"
      ],
      "metadata": {
        "colab": {
          "base_uri": "https://localhost:8080/"
        },
        "id": "Ze3LFDmGO46-",
        "outputId": "efff4122-4a2f-47f8-a650-8c8f20992b18"
      },
      "execution_count": null,
      "outputs": [
        {
          "output_type": "stream",
          "name": "stdout",
          "text": [
            "輸入一個數字判斷是否為質數100\n",
            "[2, 3, 5, 7, 11, 13, 17, 19, 23, 29, 31, 37, 41, 43, 47, 53, 59, 61, 67, 71, 73, 79, 83, 89, 97]\n"
          ]
        }
      ]
    },
    {
      "cell_type": "code",
      "source": [
        "#練習\n",
        "#求100之內的質數\n",
        "for n in range(100):\n",
        "  if n > 1:\n",
        "    if n == 2:\n",
        "      print(n)\n",
        "    else:\n",
        "      for i in range(2,n):\n",
        "          if n % i == 0:\n",
        "                break\n",
        "      if i == n-1:     #n只能被自己本身整除\n",
        "            print(n)"
      ],
      "metadata": {
        "colab": {
          "base_uri": "https://localhost:8080/"
        },
        "id": "QpD0F3QGVnHc",
        "outputId": "a46d1863-2f96-4a55-e28a-f1139b773414"
      },
      "execution_count": 2,
      "outputs": [
        {
          "output_type": "stream",
          "name": "stdout",
          "text": [
            "2\n",
            "3\n",
            "5\n",
            "7\n",
            "11\n",
            "13\n",
            "17\n",
            "19\n",
            "23\n",
            "29\n",
            "31\n",
            "37\n",
            "41\n",
            "43\n",
            "47\n",
            "53\n",
            "59\n",
            "61\n",
            "67\n",
            "71\n",
            "73\n",
            "79\n",
            "83\n",
            "89\n",
            "97\n"
          ]
        }
      ]
    },
    {
      "cell_type": "code",
      "source": [
        "#練習\n",
        "#避開5的倍數\n",
        "n = int(input(\"請輸入正整數:\"))\n",
        "for i in range(1, n+1):\n",
        "  if i % 5 == 0:\n",
        "    continue\n",
        "  print(i, end=\" \")"
      ],
      "metadata": {
        "colab": {
          "base_uri": "https://localhost:8080/"
        },
        "id": "pWB9N2lbtTy_",
        "outputId": "5e57131c-cfcb-4c29-911f-eb1320ec5c5f"
      },
      "execution_count": 4,
      "outputs": [
        {
          "output_type": "stream",
          "name": "stdout",
          "text": [
            "請輸入正整數:20\n",
            "1 2 3 4 6 7 8 9 11 12 13 14 16 17 18 19 "
          ]
        }
      ]
    },
    {
      "cell_type": "code",
      "source": [
        "#HW4.4\n",
        "#避開4樓這個數\n",
        "n = int(input(\"請輸入正整數:\"))\n",
        "for i in range(1, n+1):\n",
        "  if i == 4:\n",
        "    continue\n",
        "  print(i, end=\" \")"
      ],
      "metadata": {
        "colab": {
          "base_uri": "https://localhost:8080/"
        },
        "id": "eU-YCWx-usgT",
        "outputId": "f3c8f209-cb42-44c9-ca73-46bb89311962"
      },
      "execution_count": 9,
      "outputs": [
        {
          "output_type": "stream",
          "name": "stdout",
          "text": [
            "請輸入正整數:10\n",
            "1 2 3 5 6 7 8 9 10 "
          ]
        }
      ]
    },
    {
      "cell_type": "code",
      "source": [
        "#練習\n",
        "#先判斷是否輸入成績，\n",
        "#如果要請輸入yes並依序輸入期中與期末考成績，否則輸入no取消輸入成績。\n",
        "#第一次輸入為1號同學Midterm與Final成績，\n",
        "#第二次輸入為2號同學Midterm與Final成績，以此類推。\n",
        "#最後請印出座號、Midterm與Final。\n",
        "Test_name = ['Midterm','Final']\n",
        "\n",
        "grade_list = []\n",
        "\n",
        "count = 0\n",
        "while True:\n",
        "  count = count + 1\n",
        "  tip = input(\"是否輸入%d號同學成績yes or no\" % count)\n",
        "  if tip == 'yes':\n",
        "    student_list = []\n",
        "    for i in Test_name:\n",
        "      score = float(input(i))\n",
        "      student_list.append(score)\n",
        "    grade_list.append(student_list)\n",
        "\n",
        "  elif tip == 'no':\n",
        "    break\n",
        "\n",
        "print(\"用座號顯示成績:\")\n",
        "count = 0\n",
        "for i in grade_list:\n",
        "  #print(i)\n",
        "  #print(grade_list)\n",
        "  count = count + 1\n",
        "  print(count,\"號同學的Midterm,Final成績依序為\",i)\n",
        ""
      ],
      "metadata": {
        "colab": {
          "base_uri": "https://localhost:8080/"
        },
        "id": "84NUlbsSwEce",
        "outputId": "9c04f845-8dad-47fd-ce34-170df4b58172"
      },
      "execution_count": 13,
      "outputs": [
        {
          "output_type": "stream",
          "name": "stdout",
          "text": [
            "是否輸入1號同學成績yes or noyes\n",
            "Midterm30\n",
            "Final40\n",
            "是否輸入2號同學成績yes or noyes\n",
            "Midterm50\n",
            "Final60\n",
            "是否輸入3號同學成績yes or nono\n",
            "用座號顯示成績:\n",
            "1 號同學的Midterm,Final成績依序為 [30.0, 40.0]\n",
            "2 號同學的Midterm,Final成績依序為 [50.0, 60.0]\n"
          ]
        }
      ]
    },
    {
      "cell_type": "code",
      "source": [
        "#練習\n",
        "#先判斷是否輸入成績，如果要請輸入yes並依序輸入期中與期末考成績，否則輸入no取消輸入成績。\n",
        "#第一次輸入同學姓名後，再輸入Midterm與Final成績，\n",
        "#第二次輸入同學姓名後，再Midterm與Final成績，以此類推。\n",
        "#最後請印出同學姓名、Midterm與Final。\n",
        "Test_name = ['Midterm','Final']\n",
        "\n",
        "grade_dict = {}\n",
        "while True:\n",
        "  tip = input(\"是否輸入同學成績yes or no\")\n",
        "  if tip == 'yes':\n",
        "      student_name = input(\"輸入同學姓名\")\n",
        "      student_list = []\n",
        "      for i in Test_name:\n",
        "          score = float(input(i))\n",
        "          student_list.append(score)\n",
        "      grade_dict[student_name] = student_list\n",
        "  elif tip == 'no':\n",
        "      break\n",
        "\n",
        "print(\"用姓名顯示成績:\")\n",
        "for i,j in grade_dict.items():\n",
        "    print(i+\"同學的Midterm,Final成績依序為:\",j)\n"
      ],
      "metadata": {
        "colab": {
          "base_uri": "https://localhost:8080/"
        },
        "id": "XsFkJSmHwHtd",
        "outputId": "f5e74fd5-fa40-4a21-eb5f-815339eece4a"
      },
      "execution_count": 14,
      "outputs": [
        {
          "output_type": "stream",
          "name": "stdout",
          "text": [
            "是否輸入同學成績yes or noyes\n",
            "輸入同學姓名Wang\n",
            "Midterm100\n",
            "Final90\n",
            "是否輸入同學成績yes or noyes\n",
            "輸入同學姓名Lin\n",
            "Midterm88\n",
            "Final99\n",
            "是否輸入同學成績yes or nono\n",
            "用姓名顯示成績:\n",
            "Wang同學的Midterm,Final成績依序為: [100.0, 90.0]\n",
            "Lin同學的Midterm,Final成績依序為: [88.0, 99.0]\n"
          ]
        }
      ]
    },
    {
      "cell_type": "code",
      "source": [
        "#練習\n",
        "#先判斷是否輸入成績，如果要請輸入yes並依序輸入期中與期末考成績，否則輸入no取消輸入成績。\n",
        "#第一次輸入為1號同學Midterm與Final成績，第二次輸入為2號同學Midterm與Final成績，以此類推。\n",
        "#Midterm與Final滿分各為50，Semester grades= Midterm+Final，\n",
        "#最後請印出座號、Midterm、Final與Semester grades。\n",
        "import numpy as np\n",
        "\n",
        "Test_name = ['Midterm','Final']\n",
        "\n",
        "grade_list = []\n",
        "count = 0\n",
        "while True:\n",
        "    count = count + 1\n",
        "    tip = input(\"是否輸入%d號同學成績yes or no\" % count)\n",
        "    if tip == 'yes':\n",
        "        student_list = []\n",
        "        for i in Test_name:\n",
        "            score = float(input(i))\n",
        "            student_list.append(score)\n",
        "        grade_list.append(student_list)\n",
        "    elif tip == 'no':\n",
        "        break\n",
        "\n",
        "print(\"用Numpy顯示成績:\")\n",
        "grade_numpy = np.array(grade_list)\n",
        "count = 0\n",
        "for i in grade_numpy:\n",
        "    count = count + 1\n",
        "    print(count,\"號同學的Midterm,Final,Semester grades成績依序為:\",i[0],i[1],sum(i))"
      ],
      "metadata": {
        "colab": {
          "base_uri": "https://localhost:8080/"
        },
        "id": "4sZLY5eEwJwm",
        "outputId": "085a276d-0bda-4e8d-c097-3cdb10676a18"
      },
      "execution_count": 17,
      "outputs": [
        {
          "output_type": "stream",
          "name": "stdout",
          "text": [
            "是否輸入1號同學成績yes or noyes\n",
            "Midterm40\n",
            "Final50\n",
            "是否輸入2號同學成績yes or noyes\n",
            "Midterm30\n",
            "Final55\n",
            "是否輸入3號同學成績yes or nono\n",
            "用Numpy顯示成績:\n",
            "1 號同學的Midterm,Final,Semester grades成績依序為: 40.0 50.0 90.0\n",
            "2 號同學的Midterm,Final,Semester grades成績依序為: 30.0 55.0 85.0\n"
          ]
        }
      ]
    },
    {
      "cell_type": "code",
      "source": [
        "#HW4.5\n",
        "#1 & #2\n",
        "#先判斷是否輸入成績，如果要請輸入yes並依序輸入期中與期末考成績，否則輸入no取消輸入成績。\n",
        "#第一次輸入為1號同學Exam1、Midterm、Exam2與Final成績，第二次輸入為2號同學Exam1、Midterm、Exam2與Final成績，以此類推。\n",
        "#Exam1、Midterm、Exam2與Final滿分各為100，Semester grades= Exam1*20+Midterm*30+Exam2*20+Final*30。\n",
        "#1.請印出座號、Exam1、Midterm、Exam2、Final與Semester grades。(至少輸入三位同學)\n",
        "#2.請印出Exam1、Midterm、Exam2、Final的每一項平均與標準差。\n",
        "import numpy as np\n",
        "Test_name = ['Exam1','Midterm','Exam2','Final']\n",
        "\n",
        "grade_list = []\n",
        "count = 0\n",
        "while True:\n",
        "    count = count + 1\n",
        "    tip = input(\"是否輸入%d號同學成績yes or no\" % count)\n",
        "    if tip == 'yes':\n",
        "        student_list = []\n",
        "        for i in Test_name:\n",
        "            score = float(input(i))\n",
        "            student_list.append(score)\n",
        "        grade_list.append(student_list)\n",
        "    elif tip == 'no':\n",
        "        break\n",
        "\n",
        "print(\"用Numpy顯示成績:\")\n",
        "grade_numpy = np.array(grade_list)\n",
        "#print(grade_list)\n",
        "score_mean = np.mean(grade_list,0)\n",
        "score_std = np.std(grade_list,0)\n",
        "\n",
        "count = 0\n",
        "for i in grade_numpy:\n",
        "    count = count + 1\n",
        "    s_grade = i[0]*0.2 + i[1]*0.3+i[2]*0.2 + i[3]*0.3\n",
        "    print(count,\"號同學的Exam1,Midterm,Exam2,Final,與Semester grades成績依序為:\",i[0],i[1],i[2],i[3],s_grade)\n",
        "   #print(i)\n",
        "print(\"Exam1,Midterm,Exam2,Final每一項的平均分別為：\",score_mean[0],score_mean[1],score_mean[2],score_mean[3])\n",
        "print(\"Exam1,Midterm,Exam2,Final每一項的標準差分別為：\",score_std[0],score_std[1],score_std[2],score_std[3])"
      ],
      "metadata": {
        "id": "jkECmvvuOcDz",
        "colab": {
          "base_uri": "https://localhost:8080/"
        },
        "outputId": "30b84283-7f74-4783-d829-309256dfaa67"
      },
      "execution_count": 26,
      "outputs": [
        {
          "output_type": "stream",
          "name": "stdout",
          "text": [
            "是否輸入1號同學成績yes or noyes\n",
            "Exam180\n",
            "Midterm80\n",
            "Exam290\n",
            "Final100\n",
            "是否輸入2號同學成績yes or noyes\n",
            "Exam190\n",
            "Midterm90\n",
            "Exam290\n",
            "Final100\n",
            "是否輸入3號同學成績yes or noyes\n",
            "Exam170\n",
            "Midterm70\n",
            "Exam280\n",
            "Final90\n",
            "是否輸入4號同學成績yes or nono\n",
            "用Numpy顯示成績:\n",
            "1 號同學的Exam1,Midterm,Exam2,Final,與Semester grades成績依序為: 80.0 80.0 90.0 100.0 88.0\n",
            "2 號同學的Exam1,Midterm,Exam2,Final,與Semester grades成績依序為: 90.0 90.0 90.0 100.0 93.0\n",
            "3 號同學的Exam1,Midterm,Exam2,Final,與Semester grades成績依序為: 70.0 70.0 80.0 90.0 78.0\n",
            "Exam1,Midterm,Exam2,Final每一項的平均分別為： 80.0 80.0 86.66666666666667 96.66666666666667\n",
            "Exam1,Midterm,Exam2,Final每一項的標準差分別為： 8.16496580927726 8.16496580927726 4.714045207910316 4.714045207910316\n"
          ]
        }
      ]
    },
    {
      "cell_type": "code",
      "source": [],
      "metadata": {
        "id": "6DPHEEYO-IZr"
      },
      "execution_count": null,
      "outputs": []
    },
    {
      "cell_type": "code",
      "source": [
        "import numpy as np\n",
        "a = [[10.0, 20.0, 30.0, 40.0], [11.0, 22.0, 33.0, 44.0], [20.0, 40.0, 60.0, 80.0]]\n",
        "m = np.mean(a,0)\n",
        "st = np.std(a,0)\n",
        "print(m)\n",
        "print(st)\n"
      ],
      "metadata": {
        "colab": {
          "base_uri": "https://localhost:8080/"
        },
        "id": "IFUIlD546Nso",
        "outputId": "a095a45d-5144-459c-d172-72b000eb084e"
      },
      "execution_count": 22,
      "outputs": [
        {
          "output_type": "stream",
          "name": "stdout",
          "text": [
            "[13.66666667 27.33333333 41.         54.66666667]\n",
            "[ 4.49691252  8.99382504 13.49073756 17.98765008]\n"
          ]
        }
      ]
    },
    {
      "cell_type": "code",
      "source": [
        "#HW4.6\n",
        "#1.1 N=10 A=?\n",
        "import math\n",
        "N = int(input(\"輸入 N = \"))\n",
        "count = 0\n",
        "for i in range(1,N+1):\n",
        "   count = count + (1 / (i** 2))\n",
        "\n",
        "print(\"A =\", count)\n"
      ],
      "metadata": {
        "colab": {
          "base_uri": "https://localhost:8080/"
        },
        "id": "9uxufGUgfgVr",
        "outputId": "fa14883d-1b30-4fc6-edc1-667b683206f6"
      },
      "execution_count": 28,
      "outputs": [
        {
          "output_type": "stream",
          "name": "stdout",
          "text": [
            "輸入 N = 10\n",
            "A = 1.5497677311665408\n"
          ]
        }
      ]
    },
    {
      "cell_type": "code",
      "source": [
        "#HW4.6\n",
        "#1.2 N=50 A=?\n",
        "import math\n",
        "N = int(input(\"輸入 N = \"))\n",
        "count = 0\n",
        "for i in range(1,N+1):\n",
        "   count = count + (1 / (i** 2))\n",
        "\n",
        "print(\"A =\", count)\n"
      ],
      "metadata": {
        "colab": {
          "base_uri": "https://localhost:8080/"
        },
        "id": "I1gfi95hK6Xz",
        "outputId": "50f31f6b-5f3d-44b9-94f4-6718f7b8ee38"
      },
      "execution_count": 29,
      "outputs": [
        {
          "output_type": "stream",
          "name": "stdout",
          "text": [
            "輸入 N = 50\n",
            "A = 1.625132733621529\n"
          ]
        }
      ]
    },
    {
      "cell_type": "code",
      "source": [
        "#HW4.6 (manual)\n",
        "#2 A(inf)=(pi**2)/6, abs(A(inf)-A(N)) < 0.01, N = ??\n",
        "import math\n",
        "N = int(input(\"輸入 N = \"))\n",
        "count = 0\n",
        "for i in range(1,N+1):\n",
        "   count = count + (1 / (i** 2))\n",
        "\n",
        "print(\"A =\", count)\n",
        "A_inf = (math.pi**2)/6\n",
        "if np.absolute(A_inf-count) < 0.01:\n",
        "  print(N)"
      ],
      "metadata": {
        "colab": {
          "base_uri": "https://localhost:8080/"
        },
        "id": "yqfzHKhaOFNJ",
        "outputId": "05b5864c-bfba-40e7-9d0e-b2ffda217d98"
      },
      "execution_count": 34,
      "outputs": [
        {
          "output_type": "stream",
          "name": "stdout",
          "text": [
            "輸入 N = 100\n",
            "A = 1.6349839001848923\n",
            "100\n"
          ]
        }
      ]
    },
    {
      "cell_type": "code",
      "source": [
        "#HW4.6\n",
        "#2 A(inf)=(pi**2)/6, abs(A(inf)-A(N)) < 0.01, N = ??\n",
        "import math\n",
        "#N = int(input(\"輸入 N = \"))\n",
        "while 1:\n",
        "  count = 0\n",
        "  for i in range(1,N+1):\n",
        "    count = count + (1 / (i** 2))\n",
        "\n",
        "#print(\"A =\", count)\n",
        "  A_inf = (math.pi**2)/6\n",
        "  if np.absolute(A_inf-count) < 0.01:\n",
        "    break\n",
        "print(N)"
      ],
      "metadata": {
        "colab": {
          "base_uri": "https://localhost:8080/"
        },
        "id": "gudg_GnNTCCM",
        "outputId": "31c2b1af-044a-4dbc-8947-b9060b520bbe"
      },
      "execution_count": 35,
      "outputs": [
        {
          "output_type": "stream",
          "name": "stdout",
          "text": [
            "100\n"
          ]
        }
      ]
    },
    {
      "cell_type": "code",
      "source": [
        "#練習  擲骰子遊戲\n",
        "#設計程式:按任意鍵再按[ENTER] 鍵擲骰子，會顯示 1 到 6 之間的整數亂數代表骰子點數，\n",
        "#直接按[ENTER]鍵會結束遊戲。\n",
        "#按任意鍵再按[ENTER]鍵擲骰子,直接按[ENTER]鍵結束:u 你擲的骰子點數為:5\n",
        "#按任意鍵再按[ENTER]鍵擲骰子,直接按[ENTER]鍵結束:r你擲的骰子點數為:3\n",
        "#按任意鍵再按[ENTER]鍵擲骰子,直接按[ENTER]鍵結束:遊戲結束!\n",
        "import random\n",
        "while True:\n",
        "  inkey = input(\"按任意鍵 再按[ENTER]鍵擲骰子,直接 按[ENTER]鍵結束:\")\n",
        "  if inkey != \"\":\n",
        "    num = random.randint(1,6)\n",
        "    print(\"你擲的骰子點數為:\" + str(num))\n",
        "  else:\n",
        "    print(\"遊戲結束!\")\n",
        "    break"
      ],
      "metadata": {
        "colab": {
          "base_uri": "https://localhost:8080/"
        },
        "id": "cPDZ4g1jWzm7",
        "outputId": "7d9ac3be-a100-4451-b8ea-1b859f606c06"
      },
      "execution_count": 38,
      "outputs": [
        {
          "output_type": "stream",
          "name": "stdout",
          "text": [
            "按任意鍵 再按[ENTER]鍵擲骰子,直接 按[ENTER]鍵結束: \n",
            "你擲的骰子點數為:5\n",
            "按任意鍵 再按[ENTER]鍵擲骰子,直接 按[ENTER]鍵結束:i\n",
            "你擲的骰子點數為:2\n",
            "按任意鍵 再按[ENTER]鍵擲骰子,直接 按[ENTER]鍵結束:\n",
            "遊戲結束!\n"
          ]
        }
      ]
    },
    {
      "cell_type": "code",
      "source": [
        "#HW4.7\n",
        "#小朋友在玩「大富翁」桌遊，遊戲者要連擲三次骰子，然後以總點數決定遊戲前進步數。\n",
        "#遊戲時小朋友發現骰子不見了，請設計程式以亂數函式擲骰子三次，然後計算三次骰子點數的總和。\n",
        "#你三次擲骰子的點數為 6 2 4，總點數為:12\n",
        "import random\n",
        "num_ttl = 0\n",
        "while True:\n",
        "  inkey = input(\"按任意鍵 再按[ENTER]鍵連續擲三次骰子,直接 按[ENTER]鍵結束:\")\n",
        "  if inkey != \"\":\n",
        "    num_1 = random.randint(1,6)\n",
        "    num_2 = random.randint(1,6)\n",
        "    num_3 = random.randint(1,6)\n",
        "    num_ttl = num_1+num_2+num_3\n",
        "    print(\"你三次擲骰子的點數為:\" + str(num_1), str(num_2), str(num_3), \"總點數為:\",str(num_ttl))\n",
        "  else:\n",
        "    print(\"遊戲結束!\")\n",
        "    break"
      ],
      "metadata": {
        "colab": {
          "base_uri": "https://localhost:8080/"
        },
        "id": "fw3nhTcCaDEf",
        "outputId": "1ec72b16-53e9-483a-b87e-56b4c5504788"
      },
      "execution_count": 47,
      "outputs": [
        {
          "output_type": "stream",
          "name": "stdout",
          "text": [
            "按任意鍵 再按[ENTER]鍵連續擲三次骰子,直接 按[ENTER]鍵結束: \n",
            "你三次擲骰子的點數為:4 6 3 總點數為: 13\n",
            "按任意鍵 再按[ENTER]鍵連續擲三次骰子,直接 按[ENTER]鍵結束:ㄠ\n",
            "你三次擲骰子的點數為:3 5 1 總點數為: 9\n",
            "按任意鍵 再按[ENTER]鍵連續擲三次骰子,直接 按[ENTER]鍵結束:\n",
            "遊戲結束!\n"
          ]
        }
      ]
    },
    {
      "cell_type": "code",
      "source": [],
      "metadata": {
        "id": "rBHE6zvAngF-"
      },
      "execution_count": null,
      "outputs": []
    },
    {
      "cell_type": "code",
      "source": [
        "#練習 大樂透中獎號碼\n",
        "#大樂透中獎號碼為 6 個 1 到 49 之間的數字加 1 個特別號 :\n",
        "#撰寫程式取得大樂透中獎號碼，並由小到大顯示方便對獎。\n",
        "#本期大樂透中獎號碼為:12, 31, 39, 41, 44, 48\n",
        "#本期大樂透特別號為:33\n",
        "import random\n",
        "\n",
        "list1 = random.sample(range(1,50), 7)\n",
        "special = list1.pop()\n",
        "list1.sort()\n",
        "print(\"本期大樂透中獎號碼為:\", end=\"\")\n",
        "for i in range (0, 6):\n",
        "    if i < 5:\n",
        "        print(list1[i], end=\", \")\n",
        "    else:\n",
        "        print (list1[i])\n",
        "print(\"本期大樂透特別號為:\", special)"
      ],
      "metadata": {
        "colab": {
          "base_uri": "https://localhost:8080/"
        },
        "id": "NnJv7No9bQDy",
        "outputId": "7f838c9a-c5f9-40e0-ecce-8a3b7b45e644"
      },
      "execution_count": 1,
      "outputs": [
        {
          "output_type": "stream",
          "name": "stdout",
          "text": [
            "本期大樂透中獎號碼為:4, 17, 27, 30, 45, 46\n",
            "本期大樂透特別號為: 28\n"
          ]
        }
      ]
    },
    {
      "cell_type": "code",
      "source": [
        "#HW4.8 四星彩中獎號碼\n",
        "#四星彩中獎號碼為 4 個 0 到 9 之間的數字組成 :\n",
        "#撰寫程式取得四星彩中獎號碼，並由小到大顯示方便對獎。\n",
        "#本期四星彩中獎號碼為:2, 5, 8, 9\n",
        "import random\n",
        "\n",
        "list1 = random.sample(range(0,10), 4)\n",
        "#special = list1.pop()\n",
        "list1.sort()\n",
        "print(\"本期四星彩中獎號碼為:\", end=\"\")\n",
        "for i in range (0, 4):\n",
        "    if i < 3:\n",
        "        print(list1[i], end=\", \")\n",
        "    else:\n",
        "        print (list1[i])"
      ],
      "metadata": {
        "colab": {
          "base_uri": "https://localhost:8080/"
        },
        "id": "U4jK_Pemxeq4",
        "outputId": "64f2e1ab-5d3f-4821-8085-c8f5de99a557"
      },
      "execution_count": 17,
      "outputs": [
        {
          "output_type": "stream",
          "name": "stdout",
          "text": [
            "本期四星彩中獎號碼為:0, 1, 4, 8\n"
          ]
        }
      ]
    },
    {
      "cell_type": "code",
      "source": [
        "#練習\n",
        "#隨機印出兩副撲克牌\n",
        "import random\n",
        "four_suits = ['spade', 'heart', 'diamond', 'club']\n",
        "#four_suits = ['黑桃','紅心','方塊','梅花']\n",
        "number = ['Ace',2,3,4,5,6,7,8,9,10,'Jack','Queen','King']\n",
        "card = []\n",
        "for i in range(2):\n",
        "  a = random.randint(0, 3)\n",
        "  b = random.randint(0, 12)\n",
        "  card.append([four_suits[a],number[b]])\n",
        "\n",
        "#print(card[0])\n",
        "#print(card[0][0],card[0][1])\n",
        "#print(card[1])\n",
        "#print(card[1][0],card[1][1])\n",
        "#print(card)\n",
        "print(\"隨機印出兩副撲克牌\", card)"
      ],
      "metadata": {
        "colab": {
          "base_uri": "https://localhost:8080/"
        },
        "id": "2HVFbS7rzDWq",
        "outputId": "dc0cc624-f04f-4ff7-a3a1-2d30e822f20a"
      },
      "execution_count": 20,
      "outputs": [
        {
          "output_type": "stream",
          "name": "stdout",
          "text": [
            "隨機印出兩副撲克牌 [['diamond', 3], ['spade', 'King']]\n"
          ]
        }
      ]
    },
    {
      "cell_type": "code",
      "source": [],
      "metadata": {
        "id": "g4B7Rf0E1VI6"
      },
      "execution_count": null,
      "outputs": []
    },
    {
      "cell_type": "code",
      "source": [
        "#HW4.9 比較數字大小\n",
        "#隨機印出兩副黑桃撲克牌並比較大小，印出數字大者\n",
        "#提示1:數字設定成 number = [1,2,3,4,5,6,7,8,9,10,11,12,13]\n",
        "#提示2:\n",
        "#>>> for i in range(2):\n",
        "#>>>    #a = random.randint(0, 3)\n",
        "#>>>    a = 0\n",
        "#>>>    b = random.randint(0, 12)\n",
        "#>>>    card.append([four_suits[a],number[b]])\n",
        "\n",
        "import random\n",
        "four_suits = ['spade', 'heart', 'diamond', 'club']\n",
        "#four_suits = ['黑桃','紅心','方塊','梅花']\n",
        "number = [1,2,3,4,5,6,7,8,9,10,11,12,13]\n",
        "card = []\n",
        "for i in range(2):\n",
        "  #a = random.randint(0, 3)\n",
        "  a = 0\n",
        "  b = random.randint(0, 12)\n",
        "  card.append([four_suits[a],number[b]])\n",
        "\n",
        "#print(card[0])\n",
        "#print(card[0][0],card[0][1])\n",
        "#print(card[1])\n",
        "#print(card[1][0],card[1][1])\n",
        "#print(card)\n",
        "card.sort() #由小到大排序\n",
        "#print(card) #由小到大列印\n",
        "#four_suits.index('spade').sort()\n",
        "#print(four_suits.index('spade'))\n",
        "print(\"隨機印出兩副黑桃撲克牌\", card)\n",
        "print(\"並比較大小 => \", card[1])"
      ],
      "metadata": {
        "colab": {
          "base_uri": "https://localhost:8080/"
        },
        "id": "8bEWOO7_3iGr",
        "outputId": "2b5ae86a-d898-4a11-a293-aba2ba44d401"
      },
      "execution_count": 77,
      "outputs": [
        {
          "output_type": "stream",
          "name": "stdout",
          "text": [
            "隨機印出兩副黑桃撲克牌 [['spade', 2], ['spade', 9]]\n",
            "並比較大小 =>  ['spade', 9]\n"
          ]
        }
      ]
    },
    {
      "cell_type": "code",
      "source": [
        "#HW4.10 比較相同數字的撲克牌的花色大小\n",
        "#隨機印出兩副數字相同的撲克牌並比較花色大小，印出花色大者。\n",
        "#(黑桃>紅心>方塊>梅花)\n",
        "\n",
        "import random\n",
        "four_suits = ['spade', 'heart', 'diamond', 'club']\n",
        "#four_suits = ['黑桃','紅心','方塊','梅花']\n",
        "number = [1,2,3,4,5,6,7,8,9,10,11,12,13]\n",
        "card = []\n",
        "b = random.randint(0, 12)\n",
        "for i in range(2):\n",
        "  a = random.randint(0, 3)\n",
        "  #a = 0\n",
        "  #b = random.randint(0, 12)\n",
        "  card.append([four_suits[a],number[b]])\n",
        "\n",
        "#print(card[0])\n",
        "#print(card[0][0],card[0][1])\n",
        "#print(card[1])\n",
        "#print(card[1][0],card[1][1])\n",
        "#print(card)\n",
        "card.sort(key = lambda x:(x[0])) #由小到大排序\n",
        "#print(card) #由小到大列印\n",
        "print(\"隨機印出兩副數字相同的撲克牌\", card)\n",
        "print(\"並比較花色大小 =>\", card[1])"
      ],
      "metadata": {
        "colab": {
          "base_uri": "https://localhost:8080/"
        },
        "id": "55szjF5n48kQ",
        "outputId": "edf2fcfe-f24d-4239-c867-4c95483318ac"
      },
      "execution_count": 72,
      "outputs": [
        {
          "output_type": "stream",
          "name": "stdout",
          "text": [
            "隨機印出兩副數字相同的撲克牌 [['heart', 8], ['spade', 8]]\n",
            "並比較花色大小 => ['spade', 8]\n"
          ]
        }
      ]
    },
    {
      "cell_type": "code",
      "source": [],
      "metadata": {
        "id": "x5sso62C77EH"
      },
      "execution_count": null,
      "outputs": []
    },
    {
      "cell_type": "code",
      "source": [
        "#HW4.11\n",
        "#隨機印出兩副撲克牌並同時比較花色以及數字大小。\n",
        "#(黑桃>紅心>方塊>梅花)\n",
        "import random\n",
        "four_suits = ['spade', 'heart', 'diamond', 'club']\n",
        "#four_suits = ['黑桃','紅心','方塊','梅花']\n",
        "number = [1,2,3,4,5,6,7,8,9,10,11,12,13]\n",
        "card = []\n",
        "#b = random.randint(0, 12)\n",
        "n = 2\n",
        "for i in range(n):\n",
        "  a = random.randint(0, 3)\n",
        "  b = random.randint(0, 12)\n",
        "  card.append([four_suits[a],number[b]])\n",
        "\n",
        "#print(card[0])\n",
        "#print(card[0][0],card[0][1])\n",
        "#print(card[1])\n",
        "#print(card[1][0],card[1][1])\n",
        "#print(card)\n",
        "card.sort(key = lambda x:(x[0], x[1])) #由小到大排序，先比較花色再比較數字\n",
        "print(\"隨機印出兩副撲克牌\", card)\n",
        "#print(card) #由小到大列印\n",
        "#four_suits.index('spade').sort()\n",
        "print(\"並同時比較花色以及數字大小=>\", card[n-1])"
      ],
      "metadata": {
        "colab": {
          "base_uri": "https://localhost:8080/"
        },
        "id": "mm2NpfFf8JcN",
        "outputId": "d0f8e38b-2c90-408f-9f43-07160fe7e742"
      },
      "execution_count": 62,
      "outputs": [
        {
          "output_type": "stream",
          "name": "stdout",
          "text": [
            "隨機印出兩副撲克牌 [['diamond', 12], ['heart', 3]]\n",
            "並同時比較花色以及數字大小=> ['heart', 3]\n"
          ]
        }
      ]
    },
    {
      "cell_type": "code",
      "source": [],
      "metadata": {
        "id": "1bi-Fm9x8JqA"
      },
      "execution_count": null,
      "outputs": []
    },
    {
      "cell_type": "code",
      "source": [],
      "metadata": {
        "id": "fxamG2rr8J3N"
      },
      "execution_count": null,
      "outputs": []
    }
  ]
}