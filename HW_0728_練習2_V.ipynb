{
  "nbformat": 4,
  "nbformat_minor": 0,
  "metadata": {
    "colab": {
      "provenance": [],
      "authorship_tag": "ABX9TyMdCZltnjLQfZDrfDS0vYgN",
      "include_colab_link": true
    },
    "kernelspec": {
      "name": "python3",
      "display_name": "Python 3"
    },
    "language_info": {
      "name": "python"
    }
  },
  "cells": [
    {
      "cell_type": "markdown",
      "metadata": {
        "id": "view-in-github",
        "colab_type": "text"
      },
      "source": [
        "<a href=\"https://colab.research.google.com/github/Maggiesyh/Colab_1/blob/main/HW_0728_%E7%B7%B4%E7%BF%922_V.ipynb\" target=\"_parent\"><img src=\"https://colab.research.google.com/assets/colab-badge.svg\" alt=\"Open In Colab\"/></a>"
      ]
    },
    {
      "cell_type": "code",
      "execution_count": null,
      "metadata": {
        "id": "puEZyuyG-hOg"
      },
      "outputs": [],
      "source": [
        "#practice\n",
        "vec = [-4, -2, 0, 2, 4]\n",
        ">>> [x*2 for x in vec]            # => [-8, -4, 0, 4, 8]\n",
        ">>> [x for x in vec if x >= 0] # => [0, 2, 4]\n",
        ">>> [abs(x) for x in vec]        # => [4, 2, 0, 2, 4]\n",
        "\n",
        ">>> freshfruit = [' banana', ' loganberry ', 'passion fruit ‘]\n",
        ">>> [weapon.strip() for weapon in freshfruit] # => ['banana', 'loganberry', 'passion fruit’]\n",
        "\n",
        ">>> [(x, x**2) for x in range(6)] # => [(0, 0), (1, 1), (2, 4), (3, 9), (4, 16), (5, 25)]\n",
        "\n",
        ">>> vec = [[1,2,3], [4,5,6], [7,8,9]]\n",
        ">>> [num for elem in vec for num in elem]"
      ]
    },
    {
      "cell_type": "code",
      "source": [
        "#回到Python V\n",
        "#Plot\n"
      ],
      "metadata": {
        "id": "DD5gIHbIqEOU"
      },
      "execution_count": null,
      "outputs": []
    },
    {
      "cell_type": "code",
      "source": [
        "#Python VI\n",
        "#傳統\n",
        "a=[]\n",
        "for x in range(3):\n",
        "  if x < 2:\n",
        "    a.append(x)\n",
        "print(a)"
      ],
      "metadata": {
        "colab": {
          "base_uri": "https://localhost:8080/"
        },
        "id": "w9QjO_5RLIYx",
        "outputId": "a3f0a46d-9824-44bc-8068-9a03cfa3f77c"
      },
      "execution_count": null,
      "outputs": [
        {
          "output_type": "stream",
          "name": "stdout",
          "text": [
            "[0, 1]\n"
          ]
        }
      ]
    },
    {
      "cell_type": "code",
      "source": [
        "#Python VI\n",
        "#new\n",
        "a = [x for x in range(3) if x < 2]\n",
        "print(a)"
      ],
      "metadata": {
        "colab": {
          "base_uri": "https://localhost:8080/"
        },
        "id": "DNSFUnpZMIng",
        "outputId": "0bd7f31c-e1a1-49bc-ef57-7284674abedd"
      },
      "execution_count": null,
      "outputs": [
        {
          "output_type": "stream",
          "name": "stdout",
          "text": [
            "[0, 1]\n"
          ]
        }
      ]
    },
    {
      "cell_type": "code",
      "source": [
        "#Python VI\n",
        "#傳統\n",
        "a=[]\n",
        "for x in range(7):\n",
        "  if x % 2: #求餘數 if 0 False, if 1 True\n",
        "    if x % 3:\n",
        "      a.append(x)\n",
        "print(a)"
      ],
      "metadata": {
        "colab": {
          "base_uri": "https://localhost:8080/"
        },
        "id": "OXz0yI9GL513",
        "outputId": "a1b91eaa-92a8-4819-d159-1ee3d655ec86"
      },
      "execution_count": null,
      "outputs": [
        {
          "output_type": "stream",
          "name": "stdout",
          "text": [
            "[1, 5]\n"
          ]
        }
      ]
    },
    {
      "cell_type": "code",
      "source": [
        "#Python VI\n",
        "#new\n",
        "a = [x for x in range(7) if x % 2  if x % 3 ]\n",
        "print(a)"
      ],
      "metadata": {
        "colab": {
          "base_uri": "https://localhost:8080/"
        },
        "id": "9yWuN1AIMicr",
        "outputId": "c8452494-fb3a-42ea-f021-7240b9f19389"
      },
      "execution_count": null,
      "outputs": [
        {
          "output_type": "stream",
          "name": "stdout",
          "text": [
            "[1, 5]\n"
          ]
        }
      ]
    },
    {
      "cell_type": "code",
      "source": [],
      "metadata": {
        "id": "vL1Yt_VQNcxz"
      },
      "execution_count": null,
      "outputs": []
    },
    {
      "cell_type": "code",
      "source": [
        "#用*來unpacking\n",
        "IP = (140, 114, (46, 47))\n",
        "TANet, NTHU, CHE = IP #assign\n",
        "\n",
        "print(TANet, type(TANet))\n",
        "print(NTHU, type(NTHU))\n",
        "print(CHE, type(CHE))"
      ],
      "metadata": {
        "colab": {
          "base_uri": "https://localhost:8080/"
        },
        "id": "xcgQApgwNsGJ",
        "outputId": "bf6a9fd5-4624-4ade-fd38-dd1870e85414"
      },
      "execution_count": null,
      "outputs": [
        {
          "output_type": "stream",
          "name": "stdout",
          "text": [
            "140 <class 'int'>\n",
            "114 <class 'int'>\n",
            "(46, 47) <class 'tuple'>\n"
          ]
        }
      ]
    },
    {
      "cell_type": "code",
      "source": [
        "#用*來unpacking\n",
        "IP = (140, 114, (46, 47))\n",
        "TANet, NTHU, (CHE1, CHE2) = IP\n",
        "\n",
        "print(TANet, type(TANet))\n",
        "print(NTHU, type(NTHU))\n",
        "print(CHE1, type(CHE1))\n",
        "print(CHE2, type(CHE2))"
      ],
      "metadata": {
        "colab": {
          "base_uri": "https://localhost:8080/"
        },
        "id": "ERaViFEUSe12",
        "outputId": "62219918-696b-4034-f502-dfcfd99f65ec"
      },
      "execution_count": null,
      "outputs": [
        {
          "output_type": "stream",
          "name": "stdout",
          "text": [
            "140 <class 'int'>\n",
            "114 <class 'int'>\n",
            "46 <class 'int'>\n",
            "47 <class 'int'>\n",
            "140 <class 'int'>\n",
            "114 <class 'int'>\n",
            "46 <class 'int'>\n",
            "47 <class 'int'>\n"
          ]
        }
      ]
    },
    {
      "cell_type": "code",
      "source": [
        "#用底線\"_\"來drop資料\n",
        "IP = (140, 114, (46, 47))\n",
        "TANet, NTHU, _ = IP\n",
        "\n",
        "print(TANet, type(TANet))\n",
        "print(NTHU, type(NTHU))\n",
        "print( _, type( _ ))\n"
      ],
      "metadata": {
        "colab": {
          "base_uri": "https://localhost:8080/"
        },
        "id": "HEJbwMpaTJ9m",
        "outputId": "2b6891f4-0089-412f-c770-db43b74d6cdf"
      },
      "execution_count": null,
      "outputs": [
        {
          "output_type": "stream",
          "name": "stdout",
          "text": [
            "140 <class 'int'>\n",
            "114 <class 'int'>\n",
            "(46, 47) <class 'tuple'>\n"
          ]
        }
      ]
    },
    {
      "cell_type": "code",
      "source": [
        "IP = (140, 114, 46, 1, 2, 3, 4, 5)\n",
        "TANet, NTHU, CHE, *Lab = IP\n",
        "\n",
        "print(TANet, type(TANet))\n",
        "print(NTHU, type(NTHU))\n",
        "print(CHE, type(CHE))\n",
        "print(Lab, type(Lab))\n",
        "print(*Lab) #iterator cannot use type"
      ],
      "metadata": {
        "colab": {
          "base_uri": "https://localhost:8080/"
        },
        "id": "L5cQ-2hmTLQf",
        "outputId": "2e8fa0f8-b588-42fb-999e-e529b7cb948f"
      },
      "execution_count": null,
      "outputs": [
        {
          "output_type": "stream",
          "name": "stdout",
          "text": [
            "140 <class 'int'>\n",
            "114 <class 'int'>\n",
            "46 <class 'int'>\n",
            "[1, 2, 3, 4, 5] <class 'list'>\n",
            "1 2 3 4 5\n"
          ]
        }
      ]
    },
    {
      "cell_type": "code",
      "source": [
        "#用\"-\" , \"*\" 搭配使用\n",
        "IP = (140, 114, 46, 1, 2, 3, 4, 5)\n",
        ">>> TANet, NTHU, CHE, *_ = IP\n",
        "\n",
        ">>> print(TANet, type(TANet))\n",
        ">>> print(NTHU, type(NTHU))\n",
        ">>> print(CHE, type(CHE))\n",
        ">>> print( _, type( _ ))\n",
        ">>> print(*_) #iterator cannot use type\n"
      ],
      "metadata": {
        "colab": {
          "base_uri": "https://localhost:8080/"
        },
        "id": "tIG5ueRWVefd",
        "outputId": "a68bf86f-8d34-4598-97e1-e5cd17da2e1e"
      },
      "execution_count": null,
      "outputs": [
        {
          "output_type": "stream",
          "name": "stdout",
          "text": [
            "140 <class 'int'>\n",
            "114 <class 'int'>\n",
            "46 <class 'int'>\n",
            "[1, 2, 3, 4, 5] <class 'list'>\n",
            "1 2 3 4 5\n"
          ]
        }
      ]
    },
    {
      "cell_type": "code",
      "source": [
        "#空白的取代\n",
        "IP = (140, 114, 46)\n",
        ">>> TANet, NTHU, CHE, *_ = IP\n",
        "\n",
        ">>> print(TANet, type(TANet))\n",
        ">>> print(NTHU, type(NTHU))\n",
        ">>> print(CHE, type(CHE))\n",
        ">>> print( _, type( _ ))\n",
        ">>> print(*_, type( _ ))"
      ],
      "metadata": {
        "colab": {
          "base_uri": "https://localhost:8080/"
        },
        "id": "Knu3CNdXVFDm",
        "outputId": "9dcd708e-db6e-4b3b-881f-68ae0d1d6a66"
      },
      "execution_count": null,
      "outputs": [
        {
          "output_type": "stream",
          "name": "stdout",
          "text": [
            "140 <class 'int'>\n",
            "114 <class 'int'>\n",
            "46 <class 'int'>\n",
            "[] <class 'list'>\n",
            "<class 'list'>\n"
          ]
        }
      ]
    },
    {
      "cell_type": "code",
      "source": [
        "#merge + insert\n",
        "insert = [i for i in range(1,10)]\n",
        "merge = (0, *insert, 10)\n",
        "print(merge)\n"
      ],
      "metadata": {
        "colab": {
          "base_uri": "https://localhost:8080/"
        },
        "id": "TPJxZVFTTpV3",
        "outputId": "c3508412-7165-41cb-c8ad-0502a9a22491"
      },
      "execution_count": null,
      "outputs": [
        {
          "output_type": "stream",
          "name": "stdout",
          "text": [
            "(0, 1, 2, 3, 4, 5, 6, 7, 8, 9, 10)\n"
          ]
        }
      ]
    },
    {
      "cell_type": "code",
      "source": [
        "#Dictionary的merge\n",
        "#讀資料\n",
        "IP = {\"TANet\":140, \"NTHU\":114, \"CHE\":46}\n",
        "\n",
        "a,b,c = IP\n",
        "print(a,b,c)\n",
        "a,b,c = IP.values()\n",
        "print(a,b,c)\n",
        "a,b,c = IP.items()\n",
        "print(a,b,c)"
      ],
      "metadata": {
        "colab": {
          "base_uri": "https://localhost:8080/"
        },
        "id": "Y5miUC5KWr2V",
        "outputId": "53f4ff86-e7ab-4636-d3e8-b802b96418de"
      },
      "execution_count": null,
      "outputs": [
        {
          "output_type": "stream",
          "name": "stdout",
          "text": [
            "TANet NTHU CHE\n",
            "140 114 46\n",
            "('TANet', 140) ('NTHU', 114) ('CHE', 46)\n"
          ]
        }
      ]
    },
    {
      "cell_type": "code",
      "source": [
        "#\n",
        "IP = {\"TANet\":140, \"NTHU\":114, \"CHE\":46}\n",
        "\n",
        "print({**IP})"
      ],
      "metadata": {
        "colab": {
          "base_uri": "https://localhost:8080/"
        },
        "id": "kzheZwUZXGhd",
        "outputId": "124b3c0f-6785-442a-a417-bdbe1baa3c44"
      },
      "execution_count": null,
      "outputs": [
        {
          "output_type": "stream",
          "name": "stdout",
          "text": [
            "{'TANet': 140, 'NTHU': 114, 'CHE': 46}\n"
          ]
        }
      ]
    },
    {
      "cell_type": "code",
      "source": [
        "#Dictionary 的merge\n",
        " IP = {\"TANet\":140, \"NTHU\":114}\n",
        "\n",
        "print(dict( {**IP}, CHE1=46, CHE2=47 ))"
      ],
      "metadata": {
        "colab": {
          "base_uri": "https://localhost:8080/"
        },
        "id": "wt0S5W__XWWO",
        "outputId": "c80380c3-0e09-4098-dfa0-d81d09f2765a"
      },
      "execution_count": null,
      "outputs": [
        {
          "output_type": "stream",
          "name": "stdout",
          "text": [
            "{'TANet': 140, 'NTHU': 114, 'CHE1': 46, 'CHE2': 47}\n"
          ]
        }
      ]
    },
    {
      "cell_type": "code",
      "source": [],
      "metadata": {
        "id": "8tebTB7ZWePa"
      },
      "execution_count": null,
      "outputs": []
    },
    {
      "cell_type": "code",
      "source": [],
      "metadata": {
        "id": "xePr0yjRTMC7"
      },
      "execution_count": null,
      "outputs": []
    }
  ]
}