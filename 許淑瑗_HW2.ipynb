{
  "nbformat": 4,
  "nbformat_minor": 0,
  "metadata": {
    "colab": {
      "provenance": [],
      "authorship_tag": "ABX9TyPkHCyCcRBFBCBSrHqypDbG",
      "include_colab_link": true
    },
    "kernelspec": {
      "name": "python3",
      "display_name": "Python 3"
    },
    "language_info": {
      "name": "python"
    }
  },
  "cells": [
    {
      "cell_type": "markdown",
      "metadata": {
        "id": "view-in-github",
        "colab_type": "text"
      },
      "source": [
        "<a href=\"https://colab.research.google.com/github/Maggiesyh/Colab_1/blob/main/%E8%A8%B1%E6%B7%91%E7%91%97_HW2.ipynb\" target=\"_parent\"><img src=\"https://colab.research.google.com/assets/colab-badge.svg\" alt=\"Open In Colab\"/></a>"
      ]
    },
    {
      "cell_type": "code",
      "execution_count": 53,
      "metadata": {
        "colab": {
          "base_uri": "https://localhost:8080/"
        },
        "id": "nmtHWUwd6qAD",
        "outputId": "99e280d0-4234-4958-d402-9f9e7d026f5a"
      },
      "outputs": [
        {
          "output_type": "stream",
          "name": "stdout",
          "text": [
            "請輸入一個整數  18\n",
            "等於18 True\n"
          ]
        }
      ],
      "source": [
        "#HW3.1\n",
        "#1\n",
        "a = int(input(\"請輸入一個整數  \"))\n",
        "if a == 18:\n",
        "  print(\"等於18\", a==18)\n",
        "else:\n",
        "  print(\"不等於18\", a==18)"
      ]
    },
    {
      "cell_type": "code",
      "source": [
        "#HW3.1\n",
        "#2\n",
        "a = int(input(\"請輸入一個整數  \"))\n",
        "if a != 18:\n",
        "  print(\"不等於18\", a!=18)\n",
        "else:\n",
        "  print(\"等於18\", a!=18)"
      ],
      "metadata": {
        "colab": {
          "base_uri": "https://localhost:8080/"
        },
        "id": "mf_yUxJl7Ms3",
        "outputId": "d9f2f381-5910-410a-f0bd-9c38b985d57d"
      },
      "execution_count": 55,
      "outputs": [
        {
          "output_type": "stream",
          "name": "stdout",
          "text": [
            "請輸入一個整數  18\n",
            "等於18 False\n"
          ]
        }
      ]
    },
    {
      "cell_type": "code",
      "source": [
        "#HW3.1\n",
        "#3\n",
        "a = int(input(\"請輸入一個整數  \"))\n",
        "if a > 18:\n",
        "  print(\"大於18\", a > 18)\n",
        "else:\n",
        "  print(\"小於18\", a > 18)"
      ],
      "metadata": {
        "colab": {
          "base_uri": "https://localhost:8080/"
        },
        "id": "i4TZ6qGX7tPl",
        "outputId": "716a9418-514c-4b08-d6c5-6eaf062378d6"
      },
      "execution_count": 1,
      "outputs": [
        {
          "output_type": "stream",
          "name": "stdout",
          "text": [
            "請輸入一個整數  19\n",
            "大於18 True\n"
          ]
        }
      ]
    },
    {
      "cell_type": "code",
      "source": [
        "#HW3.1\n",
        "#4\n",
        "a = int(input(\"請輸入一個整數  \"))\n",
        "if a < 18:\n",
        "  print(\"小於18\", a < 18)\n",
        "else:\n",
        "  print(\"大於18\", a < 18)"
      ],
      "metadata": {
        "colab": {
          "base_uri": "https://localhost:8080/"
        },
        "id": "ewNDxhwo8dZA",
        "outputId": "923ee727-1e17-4343-9eea-28fe646ccfcd"
      },
      "execution_count": 60,
      "outputs": [
        {
          "output_type": "stream",
          "name": "stdout",
          "text": [
            "請輸入一個整數  19\n",
            "大於18 False\n"
          ]
        }
      ]
    },
    {
      "cell_type": "code",
      "source": [
        "#HW3.2\n",
        "#1輸入兩個整數，相加等於18印出\"True\",相加不等於18印出\"False\"\n",
        "a = int(input(\"請輸入第一個整數  \"))\n",
        "b = int(input(\"請輸入第二個整數  \"))\n",
        "if a + b == 18:\n",
        "  print(\"相加等於18\", a + b == 18)\n",
        "else:\n",
        "  print(\"相加不等於18\", a + b == 18)"
      ],
      "metadata": {
        "colab": {
          "base_uri": "https://localhost:8080/"
        },
        "id": "b34d75JOl1rA",
        "outputId": "528152ec-67ed-4551-e0bf-8eaad9566b2f"
      },
      "execution_count": 3,
      "outputs": [
        {
          "output_type": "stream",
          "name": "stdout",
          "text": [
            "請輸入第一個整數  3\n",
            "請輸入第二個整數  15\n",
            "相加等於18 True\n"
          ]
        }
      ]
    },
    {
      "cell_type": "code",
      "source": [
        "#HW3.2\n",
        "#2輸入兩個整數，相減等於18印出\"True\",相減不等於18印出\"False\"\n",
        "a = int(input(\"請輸入第一個整數  \"))\n",
        "b = int(input(\"請輸入第二個整數  \"))\n",
        "if a - b == 18 or b - a == 18:\n",
        "  print(\"相減等於18\", a - b == 18 or b - a == 18)\n",
        "else:\n",
        "  print(\"相減不等於18\", a - b == 18 or b - a == 18)"
      ],
      "metadata": {
        "colab": {
          "base_uri": "https://localhost:8080/"
        },
        "id": "SDC1nW3_oI2c",
        "outputId": "1ee6b366-6b8e-4b9f-b62f-7b4f0236f36b"
      },
      "execution_count": 7,
      "outputs": [
        {
          "output_type": "stream",
          "name": "stdout",
          "text": [
            "請輸入第一個整數  2\n",
            "請輸入第二個整數  12\n",
            "相減不等於18 False\n"
          ]
        }
      ]
    },
    {
      "cell_type": "code",
      "source": [
        "#HW3.2\n",
        "#3輸入兩個整數，相乘等於18印出\"True\",相乘不等於18印出\"False\"\n",
        "a = int(input(\"請輸入第一個整數  \"))\n",
        "b = int(input(\"請輸入第二個整數  \"))\n",
        "if a * b == 18:\n",
        "  print(\"相乘等於18\", a * b == 18)\n",
        "else:\n",
        "  print(\"相乘不等於18\", a * b == 18)"
      ],
      "metadata": {
        "colab": {
          "base_uri": "https://localhost:8080/"
        },
        "id": "WzHBQOnLygUT",
        "outputId": "2231a191-23db-4fdd-e472-5daa35a27dca"
      },
      "execution_count": 11,
      "outputs": [
        {
          "output_type": "stream",
          "name": "stdout",
          "text": [
            "請輸入第一個整數  6\n",
            "請輸入第二個整數  3\n",
            "相乘等於18 True\n"
          ]
        }
      ]
    },
    {
      "cell_type": "code",
      "source": [
        "#HW3.2\n",
        "#4輸入兩個整數，相除等於18印出\"True\",相除不等於18印出\"False\"\n",
        "a = int(input(\"請輸入第一個整數  \"))\n",
        "b = int(input(\"請輸入第二個整數  \"))\n",
        "if a / b == 18 or b / a == 18:\n",
        "  print(\"相除等於18\", a / b == 18 or b / a == 18)\n",
        "else:\n",
        "  print(\"相除不等於18\", a / b == 18 or b / a == 18)"
      ],
      "metadata": {
        "colab": {
          "base_uri": "https://localhost:8080/"
        },
        "id": "UznS0B27zOt7",
        "outputId": "3a25fead-224f-48a7-9e63-e7b087ddbced"
      },
      "execution_count": 22,
      "outputs": [
        {
          "output_type": "stream",
          "name": "stdout",
          "text": [
            "請輸入第一個整數  18\n",
            "請輸入第二個整數  2\n",
            "相除不等於18 False\n"
          ]
        }
      ]
    },
    {
      "cell_type": "code",
      "source": [
        "#HW3.3\n",
        "#1輸入a和b兩個整數，a/b餘數等於0印出\"True\",a/b餘數不等於0印出\"False\"\n",
        "a = int(input(\"請輸入整數 a = \"))\n",
        "b = int(input(\"請輸入整數 b = \"))\n",
        "if a % b == 0:\n",
        "  print(\"a/b餘數等於0\", a % b == 0)\n",
        "else:\n",
        "  print(\"a/b餘數不等於0\", a % b == 0)"
      ],
      "metadata": {
        "id": "RH5zCAfo09hh",
        "outputId": "2d750b91-ffd4-478f-fa37-4d28b247b3a0",
        "colab": {
          "base_uri": "https://localhost:8080/"
        }
      },
      "execution_count": 23,
      "outputs": [
        {
          "output_type": "stream",
          "name": "stdout",
          "text": [
            "請輸入整數 a = 6\n",
            "請輸入整數 b = 2\n",
            "a/b餘數等於0 True\n"
          ]
        }
      ]
    },
    {
      "cell_type": "code",
      "source": [
        "#HW3.3\n",
        "#2輸入a和b兩個整數，a/b商等於5印出\"True\",a/b商不等於5印出\"False\"\n",
        "a = int(input(\"請輸入整數 a = \"))\n",
        "b = int(input(\"請輸入整數 b = \"))\n",
        "if a // b == 5:\n",
        "  print(\"a/b商等於5\", a // b == 5)\n",
        "else:\n",
        "  print(\"a/b商不等於5\", a // b == 5)"
      ],
      "metadata": {
        "id": "prelxP3j2kWW",
        "outputId": "980617cc-4957-4bff-949f-2056b77c3a21",
        "colab": {
          "base_uri": "https://localhost:8080/"
        }
      },
      "execution_count": 24,
      "outputs": [
        {
          "output_type": "stream",
          "name": "stdout",
          "text": [
            "請輸入整數 a = 10\n",
            "請輸入整數 b = 2\n",
            "a/b商等於5 True\n"
          ]
        }
      ]
    },
    {
      "cell_type": "code",
      "source": [
        "#HW3.6\n",
        "#輸入三個整數並由小到大輸出\n",
        "x = int(input(\"請輸入x=\"))\n",
        "y = int(input(\"請輸入y=\"))\n",
        "z = int(input(\"請輸入z=\"))\n",
        "if x > y:\n",
        "  if y >= z:\n",
        "    print(z,y,x)\n",
        "  elif x < z:\n",
        "    print(y, x, z)\n",
        "  elif y < z:\n",
        "    print(y, z, x)\n",
        "elif x < y:\n",
        "  if y <= z:\n",
        "    print(x, y, z)\n",
        "  elif x > z:\n",
        "    print(z, x, y)\n",
        "  elif y > z:\n",
        "    print(x, z, y)\n",
        "elif x == y:\n",
        "  if y < z:\n",
        "    print(x, y, z)\n",
        "  else:\n",
        "    print(z, x, y)\n",
        "#elif y == z:\n",
        "#  if x > y:\n",
        "#    print(y, z, x)\n",
        "#  else:\n",
        "#    print(x, y, z)\n",
        "\n",
        "#else:\n",
        " #  print(x,y)"
      ],
      "metadata": {
        "colab": {
          "base_uri": "https://localhost:8080/"
        },
        "id": "aC3kzYbiJQh_",
        "outputId": "a8f4b4cb-95f4-4b59-bd6a-c44ba3c3aedd"
      },
      "execution_count": 44,
      "outputs": [
        {
          "output_type": "stream",
          "name": "stdout",
          "text": [
            "請輸入x=11\n",
            "請輸入y=5\n",
            "請輸入z=5\n",
            "5 5 11\n"
          ]
        }
      ]
    },
    {
      "cell_type": "code",
      "source": [
        "#python IV\n",
        "#練習\n",
        "for i in range(10):\n",
        "  print(i, end=\".\\n\")"
      ],
      "metadata": {
        "colab": {
          "base_uri": "https://localhost:8080/"
        },
        "id": "hypQbC92R5DP",
        "outputId": "3a16b124-f7a5-4fe4-f99d-5dabf518fad0"
      },
      "execution_count": 15,
      "outputs": [
        {
          "output_type": "stream",
          "name": "stdout",
          "text": [
            "0.\n",
            "1.\n",
            "2.\n",
            "3.\n",
            "4.\n",
            "5.\n",
            "6.\n",
            "7.\n",
            "8.\n",
            "9.\n"
          ]
        }
      ]
    },
    {
      "cell_type": "code",
      "source": [
        "#python IV\n",
        "#練習\n",
        "for i in range(1, 6):  #外部迴圈共執行5次\n",
        "  print(\"外部第\", i, \"次迴圈，內部執行\", i, \"次迴圈:  \", end=\"\")\n",
        "  for j in range(1, i+1): #內部迴圈\n",
        "    print(\"#\",  end=\"\")\n",
        "  print()"
      ],
      "metadata": {
        "colab": {
          "base_uri": "https://localhost:8080/"
        },
        "id": "jKQZ-ILdPwHG",
        "outputId": "5e7d797d-78bb-4d40-ddd3-8c5217a1a17d"
      },
      "execution_count": 11,
      "outputs": [
        {
          "output_type": "stream",
          "name": "stdout",
          "text": [
            "外部第 1 次迴圈，內部執行 1 次迴圈:  #\n",
            "外部第 2 次迴圈，內部執行 2 次迴圈:  ##\n",
            "外部第 3 次迴圈，內部執行 3 次迴圈:  ###\n",
            "外部第 4 次迴圈，內部執行 4 次迴圈:  ####\n",
            "外部第 5 次迴圈，內部執行 5 次迴圈:  #####\n"
          ]
        }
      ]
    },
    {
      "cell_type": "code",
      "source": [
        "#python IV\n",
        "#練習\n",
        "# 把符號#改成數字\n",
        "for i in range(1, 6):  #外部迴圈共執行5次\n",
        "  print(\"外部第\", i, \"次迴圈，內部執行\", i, \"次迴圈:  \", end=\"\")\n",
        "  for j in range(1, i+1): #內部迴圈\n",
        "    print(j,  end=\"\")\n",
        "  print()"
      ],
      "metadata": {
        "colab": {
          "base_uri": "https://localhost:8080/"
        },
        "id": "IJphY2uNSxXS",
        "outputId": "6dbf0211-503c-4a2c-b1e5-10b54c131afe"
      },
      "execution_count": 16,
      "outputs": [
        {
          "output_type": "stream",
          "name": "stdout",
          "text": [
            "外部第 1 次迴圈，內部執行 1 次迴圈:  1\n",
            "外部第 2 次迴圈，內部執行 2 次迴圈:  12\n",
            "外部第 3 次迴圈，內部執行 3 次迴圈:  123\n",
            "外部第 4 次迴圈，內部執行 4 次迴圈:  1234\n",
            "外部第 5 次迴圈，內部執行 5 次迴圈:  12345\n"
          ]
        }
      ]
    },
    {
      "cell_type": "code",
      "source": [
        "#python IV\n",
        "#練習\n",
        "t = int(input(\"請輸入正整數: \"))\n",
        "for i in range(1, t+1):  #外部迴圈共執行t次\n",
        "  print(\"外部第\", i, \"次迴圈，內部執行\", i, \"次迴圈:  \", end=\"\")\n",
        "  for j in range(1, i+1): #內部迴圈\n",
        "    print(j,  end=\"\")\n",
        "  print()"
      ],
      "metadata": {
        "colab": {
          "base_uri": "https://localhost:8080/"
        },
        "id": "klr6k9XoTT6Z",
        "outputId": "72382f9d-8556-4704-ee8f-d8b8b75594df"
      },
      "execution_count": 17,
      "outputs": [
        {
          "output_type": "stream",
          "name": "stdout",
          "text": [
            "請輸入正整數6\n",
            "外部第 1 次迴圈，內部執行 1 次迴圈:  1\n",
            "外部第 2 次迴圈，內部執行 2 次迴圈:  12\n",
            "外部第 3 次迴圈，內部執行 3 次迴圈:  123\n",
            "外部第 4 次迴圈，內部執行 4 次迴圈:  1234\n",
            "外部第 5 次迴圈，內部執行 5 次迴圈:  12345\n",
            "外部第 6 次迴圈，內部執行 6 次迴圈:  123456\n"
          ]
        }
      ]
    },
    {
      "cell_type": "code",
      "source": [
        "#python IV\n",
        "#HW4.3\n",
        "t = int(input(\"請輸入正整數: \"))\n",
        "for i in range(1, t+1):  #外部迴圈共執行t次\n",
        "#  print(\"外部第\", i, \"次迴圈，內部執行\", i, \"次迴圈:  \", end=\"\")\n",
        "  for j in range(1, i+1): #內部迴圈\n",
        "    print(j,  end=\"\")\n",
        "  print()"
      ],
      "metadata": {
        "colab": {
          "base_uri": "https://localhost:8080/"
        },
        "id": "F3x7ZfGaUfoS",
        "outputId": "b3b5ae9f-13f1-4d21-d56e-2b8ce10ceda7"
      },
      "execution_count": 18,
      "outputs": [
        {
          "output_type": "stream",
          "name": "stdout",
          "text": [
            "請輸入正整數: 6\n",
            "1\n",
            "12\n",
            "123\n",
            "1234\n",
            "12345\n",
            "123456\n"
          ]
        }
      ]
    }
  ]
}