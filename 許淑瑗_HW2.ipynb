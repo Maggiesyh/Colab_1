{
  "nbformat": 4,
  "nbformat_minor": 0,
  "metadata": {
    "colab": {
      "provenance": [],
      "authorship_tag": "ABX9TyOnNZMj2BOY6MJ3YbWJfm1r",
      "include_colab_link": true
    },
    "kernelspec": {
      "name": "python3",
      "display_name": "Python 3"
    },
    "language_info": {
      "name": "python"
    }
  },
  "cells": [
    {
      "cell_type": "markdown",
      "metadata": {
        "id": "view-in-github",
        "colab_type": "text"
      },
      "source": [
        "<a href=\"https://colab.research.google.com/github/Maggiesyh/Colab_1/blob/main/%E8%A8%B1%E6%B7%91%E7%91%97_HW2.ipynb\" target=\"_parent\"><img src=\"https://colab.research.google.com/assets/colab-badge.svg\" alt=\"Open In Colab\"/></a>"
      ]
    },
    {
      "cell_type": "code",
      "execution_count": 53,
      "metadata": {
        "colab": {
          "base_uri": "https://localhost:8080/"
        },
        "id": "nmtHWUwd6qAD",
        "outputId": "99e280d0-4234-4958-d402-9f9e7d026f5a"
      },
      "outputs": [
        {
          "output_type": "stream",
          "name": "stdout",
          "text": [
            "請輸入一個整數  18\n",
            "等於18 True\n"
          ]
        }
      ],
      "source": [
        "#HW3.1\n",
        "#1\n",
        "a = int(input(\"請輸入一個整數  \"))\n",
        "if a == 18:\n",
        "  print(\"等於18\", a==18)\n",
        "else:\n",
        "  print(\"不等於18\", a==18)"
      ]
    },
    {
      "cell_type": "code",
      "source": [
        "#HW3.1\n",
        "#2\n",
        "a = int(input(\"請輸入一個整數  \"))\n",
        "if a != 18:\n",
        "  print(\"不等於18\", a!=18)\n",
        "else:\n",
        "  print(\"等於18\", a!=18)"
      ],
      "metadata": {
        "colab": {
          "base_uri": "https://localhost:8080/"
        },
        "id": "mf_yUxJl7Ms3",
        "outputId": "d9f2f381-5910-410a-f0bd-9c38b985d57d"
      },
      "execution_count": 55,
      "outputs": [
        {
          "output_type": "stream",
          "name": "stdout",
          "text": [
            "請輸入一個整數  18\n",
            "等於18 False\n"
          ]
        }
      ]
    },
    {
      "cell_type": "code",
      "source": [
        "#HW3.1\n",
        "#3\n",
        "a = int(input(\"請輸入一個整數  \"))\n",
        "if a > 18:\n",
        "  print(\"大於18\", a > 18)\n",
        "else:\n",
        "  print(\"小於18\", a > 18)"
      ],
      "metadata": {
        "colab": {
          "base_uri": "https://localhost:8080/"
        },
        "id": "i4TZ6qGX7tPl",
        "outputId": "716a9418-514c-4b08-d6c5-6eaf062378d6"
      },
      "execution_count": 1,
      "outputs": [
        {
          "output_type": "stream",
          "name": "stdout",
          "text": [
            "請輸入一個整數  19\n",
            "大於18 True\n"
          ]
        }
      ]
    },
    {
      "cell_type": "code",
      "source": [
        "#HW3.1\n",
        "#4\n",
        "a = int(input(\"請輸入一個整數  \"))\n",
        "if a < 18:\n",
        "  print(\"小於18\", a < 18)\n",
        "else:\n",
        "  print(\"大於18\", a < 18)"
      ],
      "metadata": {
        "colab": {
          "base_uri": "https://localhost:8080/"
        },
        "id": "ewNDxhwo8dZA",
        "outputId": "923ee727-1e17-4343-9eea-28fe646ccfcd"
      },
      "execution_count": 60,
      "outputs": [
        {
          "output_type": "stream",
          "name": "stdout",
          "text": [
            "請輸入一個整數  19\n",
            "大於18 False\n"
          ]
        }
      ]
    },
    {
      "cell_type": "code",
      "source": [
        "#HW3.2\n",
        "#1輸入兩個整數，相加等於18印出\"True\",相加不等於18印出\"False\"\n",
        "a = int(input(\"請輸入第一個整數  \"))\n",
        "b = int(input(\"請輸入第二個整數  \"))\n",
        "if a + b == 18:\n",
        "  print(\"相加等於18\", a + b == 18)\n",
        "else:\n",
        "  print(\"相加不等於18\", a + b == 18)"
      ],
      "metadata": {
        "colab": {
          "base_uri": "https://localhost:8080/"
        },
        "id": "b34d75JOl1rA",
        "outputId": "528152ec-67ed-4551-e0bf-8eaad9566b2f"
      },
      "execution_count": 3,
      "outputs": [
        {
          "output_type": "stream",
          "name": "stdout",
          "text": [
            "請輸入第一個整數  3\n",
            "請輸入第二個整數  15\n",
            "相加等於18 True\n"
          ]
        }
      ]
    },
    {
      "cell_type": "code",
      "source": [
        "#HW3.2\n",
        "#2輸入兩個整數，相減等於18印出\"True\",相減不等於18印出\"False\"\n",
        "a = int(input(\"請輸入第一個整數  \"))\n",
        "b = int(input(\"請輸入第二個整數  \"))\n",
        "if a - b == 18 or b - a == 18:\n",
        "  print(\"相減等於18\", a - b == 18 or b - a == 18)\n",
        "else:\n",
        "  print(\"相減不等於18\", a - b == 18 or b - a == 18)"
      ],
      "metadata": {
        "colab": {
          "base_uri": "https://localhost:8080/"
        },
        "id": "SDC1nW3_oI2c",
        "outputId": "1ee6b366-6b8e-4b9f-b62f-7b4f0236f36b"
      },
      "execution_count": 7,
      "outputs": [
        {
          "output_type": "stream",
          "name": "stdout",
          "text": [
            "請輸入第一個整數  2\n",
            "請輸入第二個整數  12\n",
            "相減不等於18 False\n"
          ]
        }
      ]
    },
    {
      "cell_type": "code",
      "source": [
        "#HW3.2\n",
        "#3輸入兩個整數，相乘等於18印出\"True\",相乘不等於18印出\"False\"\n",
        "a = int(input(\"請輸入第一個整數  \"))\n",
        "b = int(input(\"請輸入第二個整數  \"))\n",
        "if a * b == 18:\n",
        "  print(\"相乘等於18\", a * b == 18)\n",
        "else:\n",
        "  print(\"相乘不等於18\", a * b == 18)"
      ],
      "metadata": {
        "colab": {
          "base_uri": "https://localhost:8080/"
        },
        "id": "WzHBQOnLygUT",
        "outputId": "2231a191-23db-4fdd-e472-5daa35a27dca"
      },
      "execution_count": 11,
      "outputs": [
        {
          "output_type": "stream",
          "name": "stdout",
          "text": [
            "請輸入第一個整數  6\n",
            "請輸入第二個整數  3\n",
            "相乘等於18 True\n"
          ]
        }
      ]
    },
    {
      "cell_type": "code",
      "source": [
        "#HW3.2\n",
        "#4輸入兩個整數，相除等於18印出\"True\",相除不等於18印出\"False\"\n",
        "a = int(input(\"請輸入第一個整數  \"))\n",
        "b = int(input(\"請輸入第二個整數  \"))\n",
        "if a / b == 18 or b / a == 18:\n",
        "  print(\"相除等於18\", a / b == 18 or b / a == 18)\n",
        "else:\n",
        "  print(\"相除不等於18\", a / b == 18 or b / a == 18)"
      ],
      "metadata": {
        "colab": {
          "base_uri": "https://localhost:8080/"
        },
        "id": "UznS0B27zOt7",
        "outputId": "3a25fead-224f-48a7-9e63-e7b087ddbced"
      },
      "execution_count": 22,
      "outputs": [
        {
          "output_type": "stream",
          "name": "stdout",
          "text": [
            "請輸入第一個整數  18\n",
            "請輸入第二個整數  2\n",
            "相除不等於18 False\n"
          ]
        }
      ]
    },
    {
      "cell_type": "code",
      "source": [
        "#HW3.3\n",
        "#1輸入a和b兩個整數，a/b餘數等於0印出\"True\",a/b餘數不等於0印出\"False\"\n",
        "a = int(input(\"請輸入整數 a = \"))\n",
        "b = int(input(\"請輸入整數 b = \"))\n",
        "if a % b == 0:\n",
        "  print(\"a/b餘數等於0\", a % b == 0)\n",
        "else:\n",
        "  print(\"a/b餘數不等於0\", a % b == 0)"
      ],
      "metadata": {
        "colab": {
          "base_uri": "https://localhost:8080/"
        },
        "id": "RH5zCAfo09hh",
        "outputId": "2d750b91-ffd4-478f-fa37-4d28b247b3a0"
      },
      "execution_count": 23,
      "outputs": [
        {
          "output_type": "stream",
          "name": "stdout",
          "text": [
            "請輸入整數 a = 6\n",
            "請輸入整數 b = 2\n",
            "a/b餘數等於0 True\n"
          ]
        }
      ]
    },
    {
      "cell_type": "code",
      "source": [
        "#HW3.3\n",
        "#2輸入a和b兩個整數，a/b商等於5印出\"True\",a/b商不等於5印出\"False\"\n",
        "a = int(input(\"請輸入整數 a = \"))\n",
        "b = int(input(\"請輸入整數 b = \"))\n",
        "if a // b == 5:\n",
        "  print(\"a/b商等於5\", a // b == 5)\n",
        "else:\n",
        "  print(\"a/b商不等於5\", a // b == 5)"
      ],
      "metadata": {
        "colab": {
          "base_uri": "https://localhost:8080/"
        },
        "id": "prelxP3j2kWW",
        "outputId": "980617cc-4957-4bff-949f-2056b77c3a21"
      },
      "execution_count": 24,
      "outputs": [
        {
          "output_type": "stream",
          "name": "stdout",
          "text": [
            "請輸入整數 a = 10\n",
            "請輸入整數 b = 2\n",
            "a/b商等於5 True\n"
          ]
        }
      ]
    },
    {
      "cell_type": "code",
      "source": [
        "#HW3.4\n",
        "#1輸入一個整數，大於18且小於65印出\"True\",其他則印出\"False\"\n",
        "a = int(input(\"請輸入一個整數 = \"))\n",
        "if a >= 18 and a <= 65:\n",
        "  print(\"大於18且小於65\", a >= 18 and a <= 65)\n",
        "else:\n",
        "  print(\"其他\", a >= 18 and a <= 65)"
      ],
      "metadata": {
        "colab": {
          "base_uri": "https://localhost:8080/"
        },
        "id": "FzpMwq4w4RSV",
        "outputId": "eb7bc09c-9b54-4937-c4a5-72511689ea67"
      },
      "execution_count": 6,
      "outputs": [
        {
          "output_type": "stream",
          "name": "stdout",
          "text": [
            "請輸入一個整數 = 50\n",
            "大於18且小於65 True\n"
          ]
        }
      ]
    },
    {
      "cell_type": "code",
      "source": [
        "#HW3.4\n",
        "#2輸入一個整數，等於18或等於65印出\"True\",其他則印出\"False\"\n",
        "a = int(input(\"請輸入一個整數 = \"))\n",
        "if a == 18 or a == 65:\n",
        "  print(\"等於18或等於65\", a == 18 or a == 65)\n",
        "else:\n",
        "  print(\"其他\", a == 18 or a == 65)"
      ],
      "metadata": {
        "colab": {
          "base_uri": "https://localhost:8080/"
        },
        "id": "oa_JGjL_M3wi",
        "outputId": "e72ddc09-a554-461a-a9f1-789ef45bd156"
      },
      "execution_count": 13,
      "outputs": [
        {
          "output_type": "stream",
          "name": "stdout",
          "text": [
            "請輸入一個整數 = 7\n",
            "其他 False\n"
          ]
        }
      ]
    },
    {
      "cell_type": "code",
      "source": [
        "#HW3.4\n",
        "#3輸入一個整數，小於18或大於65印出\"True\",其他則印出\"False\"\n",
        "a = int(input(\"請輸入一個整數 = \"))\n",
        "if a <= 18 or a >= 65:\n",
        "  print(\"小於18或大於65\", a <= 18 or a >= 65)\n",
        "else:\n",
        "  print(\"其他\", a <= 18 or a >= 65)"
      ],
      "metadata": {
        "colab": {
          "base_uri": "https://localhost:8080/"
        },
        "id": "Rwct-w1PN98T",
        "outputId": "12c4da23-3fd3-4ec7-d00d-5f9205b527df"
      },
      "execution_count": 16,
      "outputs": [
        {
          "output_type": "stream",
          "name": "stdout",
          "text": [
            "請輸入一個整數 = 66\n",
            "小於18或大於65 True\n"
          ]
        }
      ]
    },
    {
      "cell_type": "code",
      "source": [
        "#HW3.4\n",
        "#4輸入一個整數，大於18且小於65 或 大於85且小於100印出\"True\",其他則印出\"False\"\n",
        "a = int(input(\"請輸入一個整數 = \"))\n",
        "if (a >= 18 and a <= 65) or (a >= 85 and a <= 100):\n",
        "  print(\"大於18且小於65 或 大於85且小於100\", (a >= 18 and a <= 65) or (a >= 85 and a <= 100))\n",
        "else:\n",
        "  print(\"其他\", (a >= 18 and a <= 65) or (a >= 85 and a <= 100))"
      ],
      "metadata": {
        "colab": {
          "base_uri": "https://localhost:8080/"
        },
        "id": "FJ4-4TZ7OdNk",
        "outputId": "54ab6fe6-b44c-45ab-c2de-7b1fd387e3a0"
      },
      "execution_count": 20,
      "outputs": [
        {
          "output_type": "stream",
          "name": "stdout",
          "text": [
            "請輸入一個整數 = 80\n",
            "其他 False\n"
          ]
        }
      ]
    },
    {
      "cell_type": "code",
      "source": [
        "#HW3.5\n",
        "#1輸入三個整數，有數字18印出\"True\", 沒有則印出\"False\"\n",
        "a = 18\n",
        "list = input(\"輸入三個整數  \")\n",
        "list = [int(n) for n in list.split()]\n",
        "print(list)\n",
        "if a in list:\n",
        "  print(\"有數字18 \", a in list ) # => True\n",
        "else:\n",
        "  print(\"沒有數字18 \", a in list ) # => False"
      ],
      "metadata": {
        "colab": {
          "base_uri": "https://localhost:8080/"
        },
        "id": "OjQc4P7BQOV2",
        "outputId": "6b8cf791-61ab-4d31-ce4d-6829aae729ea"
      },
      "execution_count": 28,
      "outputs": [
        {
          "output_type": "stream",
          "name": "stdout",
          "text": [
            "輸入三個整數20 18 2\n",
            "[20, 18, 2]\n",
            "有數字18  True\n"
          ]
        }
      ]
    },
    {
      "cell_type": "code",
      "source": [
        "#HW3.5\n",
        "#2輸入三個整數，沒有數字18印出\"True\", 有則印出\"False\"\n",
        "a = 18\n",
        "list = input(\"輸入三個整數  \")\n",
        "list = [int(n) for n in list.split()]\n",
        "print(list)\n",
        "if a not in list:\n",
        "  print(\"沒有數字18 \", a not in list ) # => True\n",
        "else:\n",
        "  print(\"有數字18 \", a not in list ) # => False\n"
      ],
      "metadata": {
        "colab": {
          "base_uri": "https://localhost:8080/"
        },
        "id": "GiPvbvNoXH5u",
        "outputId": "3d4bab13-e5cf-4f02-f598-dbbf45cc8a8d"
      },
      "execution_count": 32,
      "outputs": [
        {
          "output_type": "stream",
          "name": "stdout",
          "text": [
            "輸入三個整數  20 18 2\n",
            "[20, 18, 2]\n",
            "有數字18  False\n"
          ]
        }
      ]
    },
    {
      "cell_type": "code",
      "source": [],
      "metadata": {
        "id": "JSgqAk0ZaTPD"
      },
      "execution_count": null,
      "outputs": []
    },
    {
      "cell_type": "code",
      "source": [
        "#HW3.6\n",
        "#輸入三個整數並由小到大輸出\n",
        "x = int(input(\"請輸入x=\"))\n",
        "y = int(input(\"請輸入y=\"))\n",
        "z = int(input(\"請輸入z=\"))\n",
        "if x > y:\n",
        "  if y >= z:\n",
        "    print(z,y,x)\n",
        "  elif x < z:\n",
        "    print(y, x, z)\n",
        "  elif y < z:\n",
        "    print(y, z, x)\n",
        "elif x < y:\n",
        "  if y <= z:\n",
        "    print(x, y, z)\n",
        "  elif x > z:\n",
        "    print(z, x, y)\n",
        "  elif y > z:\n",
        "    print(x, z, y)\n",
        "elif x == y:\n",
        "  if y < z:\n",
        "    print(x, y, z)\n",
        "  else:\n",
        "    print(z, x, y)\n",
        "#elif y == z:\n",
        "#  if x > y:\n",
        "#    print(y, z, x)\n",
        "#  else:\n",
        "#    print(x, y, z)\n",
        "\n",
        "#else:\n",
        " #  print(x,y)"
      ],
      "metadata": {
        "colab": {
          "base_uri": "https://localhost:8080/"
        },
        "id": "aC3kzYbiJQh_",
        "outputId": "a8f4b4cb-95f4-4b59-bd6a-c44ba3c3aedd"
      },
      "execution_count": 44,
      "outputs": [
        {
          "output_type": "stream",
          "name": "stdout",
          "text": [
            "請輸入x=11\n",
            "請輸入y=5\n",
            "請輸入z=5\n",
            "5 5 11\n"
          ]
        }
      ]
    },
    {
      "cell_type": "code",
      "source": [
        "#HW3.7\n",
        "#輸入原子序(1-108)，判斷屬於哪種類別\n"
      ],
      "metadata": {
        "id": "7qbXJX02pI7k"
      },
      "execution_count": null,
      "outputs": []
    },
    {
      "cell_type": "code",
      "source": [
        "#python IV\n",
        "#練習\n",
        "for i in range(10):\n",
        "  print(i, end=\".\\n\")"
      ],
      "metadata": {
        "colab": {
          "base_uri": "https://localhost:8080/"
        },
        "id": "hypQbC92R5DP",
        "outputId": "3a16b124-f7a5-4fe4-f99d-5dabf518fad0"
      },
      "execution_count": 15,
      "outputs": [
        {
          "output_type": "stream",
          "name": "stdout",
          "text": [
            "0.\n",
            "1.\n",
            "2.\n",
            "3.\n",
            "4.\n",
            "5.\n",
            "6.\n",
            "7.\n",
            "8.\n",
            "9.\n"
          ]
        }
      ]
    },
    {
      "cell_type": "code",
      "source": [
        "#HW4.1\n",
        "#輸入一個正整數，列出1到該正整數的所有奇數\n",
        "n = int(input(\"請輸入正整數:\"))\n",
        "for i in range(1, n+1,2):\n",
        "  print(i, end=\" \")"
      ],
      "metadata": {
        "colab": {
          "base_uri": "https://localhost:8080/"
        },
        "id": "oqLsIC8Lt08Q",
        "outputId": "b2db4c36-ceed-4d61-cdb6-665079a7b64d"
      },
      "execution_count": 35,
      "outputs": [
        {
          "output_type": "stream",
          "name": "stdout",
          "text": [
            "請輸入正整數:12\n",
            "1 3 5 7 9 11 "
          ]
        }
      ]
    },
    {
      "cell_type": "code",
      "source": [
        "#HW4.2\n",
        "#利用兩層 for 迴圈列印九九乘法表\n",
        "for i in range(1,10):\n",
        "  for j in range(1,10):\n",
        "    print(\"%d * %d = %2d\" %(i, j, i * j), end=(\"   \"))\n",
        "  print()"
      ],
      "metadata": {
        "colab": {
          "base_uri": "https://localhost:8080/"
        },
        "id": "Iw4YNz4dufeJ",
        "outputId": "fba4f1a1-2a34-4a15-8050-726c6e9a91eb"
      },
      "execution_count": 55,
      "outputs": [
        {
          "output_type": "stream",
          "name": "stdout",
          "text": [
            "1 * 1 =  1   1 * 2 =  2   1 * 3 =  3   1 * 4 =  4   1 * 5 =  5   1 * 6 =  6   1 * 7 =  7   1 * 8 =  8   1 * 9 =  9   \n",
            "2 * 1 =  2   2 * 2 =  4   2 * 3 =  6   2 * 4 =  8   2 * 5 = 10   2 * 6 = 12   2 * 7 = 14   2 * 8 = 16   2 * 9 = 18   \n",
            "3 * 1 =  3   3 * 2 =  6   3 * 3 =  9   3 * 4 = 12   3 * 5 = 15   3 * 6 = 18   3 * 7 = 21   3 * 8 = 24   3 * 9 = 27   \n",
            "4 * 1 =  4   4 * 2 =  8   4 * 3 = 12   4 * 4 = 16   4 * 5 = 20   4 * 6 = 24   4 * 7 = 28   4 * 8 = 32   4 * 9 = 36   \n",
            "5 * 1 =  5   5 * 2 = 10   5 * 3 = 15   5 * 4 = 20   5 * 5 = 25   5 * 6 = 30   5 * 7 = 35   5 * 8 = 40   5 * 9 = 45   \n",
            "6 * 1 =  6   6 * 2 = 12   6 * 3 = 18   6 * 4 = 24   6 * 5 = 30   6 * 6 = 36   6 * 7 = 42   6 * 8 = 48   6 * 9 = 54   \n",
            "7 * 1 =  7   7 * 2 = 14   7 * 3 = 21   7 * 4 = 28   7 * 5 = 35   7 * 6 = 42   7 * 7 = 49   7 * 8 = 56   7 * 9 = 63   \n",
            "8 * 1 =  8   8 * 2 = 16   8 * 3 = 24   8 * 4 = 32   8 * 5 = 40   8 * 6 = 48   8 * 7 = 56   8 * 8 = 64   8 * 9 = 72   \n",
            "9 * 1 =  9   9 * 2 = 18   9 * 3 = 27   9 * 4 = 36   9 * 5 = 45   9 * 6 = 54   9 * 7 = 63   9 * 8 = 72   9 * 9 = 81   \n"
          ]
        }
      ]
    },
    {
      "cell_type": "code",
      "source": [],
      "metadata": {
        "id": "0U0GU9yNvrV7"
      },
      "execution_count": null,
      "outputs": []
    },
    {
      "cell_type": "code",
      "source": [
        "#python IV\n",
        "#練習\n",
        "for i in range(1, 6):  #外部迴圈共執行5次\n",
        "  print(\"外部第\", i, \"次迴圈，內部執行\", i, \"次迴圈:  \", end=\"\")\n",
        "  for j in range(1, i+1): #內部迴圈\n",
        "    print(\"#\",  end=\"\")\n",
        "  print()"
      ],
      "metadata": {
        "colab": {
          "base_uri": "https://localhost:8080/"
        },
        "id": "jKQZ-ILdPwHG",
        "outputId": "5e7d797d-78bb-4d40-ddd3-8c5217a1a17d"
      },
      "execution_count": 11,
      "outputs": [
        {
          "output_type": "stream",
          "name": "stdout",
          "text": [
            "外部第 1 次迴圈，內部執行 1 次迴圈:  #\n",
            "外部第 2 次迴圈，內部執行 2 次迴圈:  ##\n",
            "外部第 3 次迴圈，內部執行 3 次迴圈:  ###\n",
            "外部第 4 次迴圈，內部執行 4 次迴圈:  ####\n",
            "外部第 5 次迴圈，內部執行 5 次迴圈:  #####\n"
          ]
        }
      ]
    },
    {
      "cell_type": "code",
      "source": [
        "#python IV\n",
        "#練習\n",
        "# 把符號#改成數字\n",
        "for i in range(1, 6):  #外部迴圈共執行5次\n",
        "  print(\"外部第\", i, \"次迴圈，內部執行\", i, \"次迴圈:  \", end=\"\")\n",
        "  for j in range(1, i+1): #內部迴圈\n",
        "    print(j,  end=\"\")\n",
        "  print()"
      ],
      "metadata": {
        "colab": {
          "base_uri": "https://localhost:8080/"
        },
        "id": "IJphY2uNSxXS",
        "outputId": "6dbf0211-503c-4a2c-b1e5-10b54c131afe"
      },
      "execution_count": 16,
      "outputs": [
        {
          "output_type": "stream",
          "name": "stdout",
          "text": [
            "外部第 1 次迴圈，內部執行 1 次迴圈:  1\n",
            "外部第 2 次迴圈，內部執行 2 次迴圈:  12\n",
            "外部第 3 次迴圈，內部執行 3 次迴圈:  123\n",
            "外部第 4 次迴圈，內部執行 4 次迴圈:  1234\n",
            "外部第 5 次迴圈，內部執行 5 次迴圈:  12345\n"
          ]
        }
      ]
    },
    {
      "cell_type": "code",
      "source": [
        "#python IV\n",
        "#練習\n",
        "t = int(input(\"請輸入正整數: \"))\n",
        "for i in range(1, t+1):  #外部迴圈共執行t次\n",
        "  print(\"外部第\", i, \"次迴圈，內部執行\", i, \"次迴圈:  \", end=\"\")\n",
        "  for j in range(1, i+1): #內部迴圈\n",
        "    print(j,  end=\"\")\n",
        "  print()"
      ],
      "metadata": {
        "colab": {
          "base_uri": "https://localhost:8080/"
        },
        "id": "klr6k9XoTT6Z",
        "outputId": "72382f9d-8556-4704-ee8f-d8b8b75594df"
      },
      "execution_count": 17,
      "outputs": [
        {
          "output_type": "stream",
          "name": "stdout",
          "text": [
            "請輸入正整數6\n",
            "外部第 1 次迴圈，內部執行 1 次迴圈:  1\n",
            "外部第 2 次迴圈，內部執行 2 次迴圈:  12\n",
            "外部第 3 次迴圈，內部執行 3 次迴圈:  123\n",
            "外部第 4 次迴圈，內部執行 4 次迴圈:  1234\n",
            "外部第 5 次迴圈，內部執行 5 次迴圈:  12345\n",
            "外部第 6 次迴圈，內部執行 6 次迴圈:  123456\n"
          ]
        }
      ]
    },
    {
      "cell_type": "code",
      "source": [
        "#python IV\n",
        "#HW4.3\n",
        "#利用巢狀 for 迴圈設計了數字三角形，使用者輸入一個正整數後，程式會顯示由 1 到該整數的三角形數字數\n",
        "t = int(input(\"請輸入正整數: \"))\n",
        "for i in range(1, t+1):  #外部迴圈共執行t次\n",
        "  for j in range(1, i+1): #內部迴圈\n",
        "    print(j,  end=\"\")\n",
        "  print()"
      ],
      "metadata": {
        "colab": {
          "base_uri": "https://localhost:8080/"
        },
        "id": "F3x7ZfGaUfoS",
        "outputId": "b3b5ae9f-13f1-4d21-d56e-2b8ce10ceda7"
      },
      "execution_count": 18,
      "outputs": [
        {
          "output_type": "stream",
          "name": "stdout",
          "text": [
            "請輸入正整數: 6\n",
            "1\n",
            "12\n",
            "123\n",
            "1234\n",
            "12345\n",
            "123456\n"
          ]
        }
      ]
    }
  ]
}