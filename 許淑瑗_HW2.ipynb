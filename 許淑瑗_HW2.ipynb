{
  "nbformat": 4,
  "nbformat_minor": 0,
  "metadata": {
    "colab": {
      "provenance": [],
      "authorship_tag": "ABX9TyOfUKiPtGHOOzXsnCZo+zui",
      "include_colab_link": true
    },
    "kernelspec": {
      "name": "python3",
      "display_name": "Python 3"
    },
    "language_info": {
      "name": "python"
    }
  },
  "cells": [
    {
      "cell_type": "markdown",
      "metadata": {
        "id": "view-in-github",
        "colab_type": "text"
      },
      "source": [
        "<a href=\"https://colab.research.google.com/github/Maggiesyh/Colab_1/blob/main/%E8%A8%B1%E6%B7%91%E7%91%97_HW2.ipynb\" target=\"_parent\"><img src=\"https://colab.research.google.com/assets/colab-badge.svg\" alt=\"Open In Colab\"/></a>"
      ]
    },
    {
      "cell_type": "code",
      "execution_count": 53,
      "metadata": {
        "colab": {
          "base_uri": "https://localhost:8080/"
        },
        "id": "nmtHWUwd6qAD",
        "outputId": "99e280d0-4234-4958-d402-9f9e7d026f5a"
      },
      "outputs": [
        {
          "output_type": "stream",
          "name": "stdout",
          "text": [
            "請輸入一個整數  18\n",
            "等於18 True\n"
          ]
        }
      ],
      "source": [
        "#HW3.1\n",
        "#1\n",
        "a = int(input(\"請輸入一個整數  \"))\n",
        "if a == 18:\n",
        "  print(\"等於18\", a==18)\n",
        "else:\n",
        "  print(\"不等於18\", a==18)"
      ]
    },
    {
      "cell_type": "code",
      "source": [
        "#HW3.1\n",
        "#2\n",
        "a = int(input(\"請輸入一個整數  \"))\n",
        "if a != 18:\n",
        "  print(\"不等於18\", a!=18)\n",
        "else:\n",
        "  print(\"等於18\", a!=18)"
      ],
      "metadata": {
        "colab": {
          "base_uri": "https://localhost:8080/"
        },
        "id": "mf_yUxJl7Ms3",
        "outputId": "d9f2f381-5910-410a-f0bd-9c38b985d57d"
      },
      "execution_count": 55,
      "outputs": [
        {
          "output_type": "stream",
          "name": "stdout",
          "text": [
            "請輸入一個整數  18\n",
            "等於18 False\n"
          ]
        }
      ]
    },
    {
      "cell_type": "code",
      "source": [
        "#HW3.1\n",
        "#3\n",
        "a = int(input(\"請輸入一個整數  \"))\n",
        "if a > 18:\n",
        "  print(\"大於18\", a > 18)\n",
        "else:\n",
        "  print(\"小於18\", a > 18)"
      ],
      "metadata": {
        "id": "i4TZ6qGX7tPl"
      },
      "execution_count": null,
      "outputs": []
    },
    {
      "cell_type": "code",
      "source": [
        "#HW3.1\n",
        "#4\n",
        "a = int(input(\"請輸入一個整數  \"))\n",
        "if a < 18:\n",
        "  print(\"小於18\", a < 18)\n",
        "else:\n",
        "  print(\"大於18\", a < 18)"
      ],
      "metadata": {
        "colab": {
          "base_uri": "https://localhost:8080/"
        },
        "id": "ewNDxhwo8dZA",
        "outputId": "923ee727-1e17-4343-9eea-28fe646ccfcd"
      },
      "execution_count": 60,
      "outputs": [
        {
          "output_type": "stream",
          "name": "stdout",
          "text": [
            "請輸入一個整數  19\n",
            "大於18 False\n"
          ]
        }
      ]
    },
    {
      "cell_type": "code",
      "source": [
        "#HW3.6\n",
        "#輸入三個整數並由小到大輸出\n",
        "x = int(input(\"請輸入x=\"))\n",
        "y = int(input(\"請輸入y=\"))\n",
        "z = int(input(\"請輸入z=\"))\n",
        "if x > y:\n",
        "  if y >= z:\n",
        "    print(z,y,x)\n",
        "  elif x < z:\n",
        "    print(y, x, z)\n",
        "  elif y < z:\n",
        "    print(y, z, x)\n",
        "elif x < y:\n",
        "  if y <= z:\n",
        "    print(x, y, z)\n",
        "  elif x > z:\n",
        "    print(z, x, y)\n",
        "  elif y > z:\n",
        "    print(x, z, y)\n",
        "elif x == y:\n",
        "  if y < z:\n",
        "    print(x, y, z)\n",
        "  else:\n",
        "    print(z, x, y)\n",
        "#elif y == z:\n",
        "#  if x > y:\n",
        "#    print(y, z, x)\n",
        "#  else:\n",
        "#    print(x, y, z)\n",
        "\n",
        "#else:\n",
        " #  print(x,y)"
      ],
      "metadata": {
        "colab": {
          "base_uri": "https://localhost:8080/"
        },
        "id": "aC3kzYbiJQh_",
        "outputId": "a8f4b4cb-95f4-4b59-bd6a-c44ba3c3aedd"
      },
      "execution_count": 44,
      "outputs": [
        {
          "output_type": "stream",
          "name": "stdout",
          "text": [
            "請輸入x=11\n",
            "請輸入y=5\n",
            "請輸入z=5\n",
            "5 5 11\n"
          ]
        }
      ]
    },
    {
      "cell_type": "code",
      "source": [
        "#python IV\n",
        "#練習\n",
        "for i in range(10):\n",
        "  print(i, end=\".\\n\")"
      ],
      "metadata": {
        "colab": {
          "base_uri": "https://localhost:8080/"
        },
        "id": "hypQbC92R5DP",
        "outputId": "3a16b124-f7a5-4fe4-f99d-5dabf518fad0"
      },
      "execution_count": 15,
      "outputs": [
        {
          "output_type": "stream",
          "name": "stdout",
          "text": [
            "0.\n",
            "1.\n",
            "2.\n",
            "3.\n",
            "4.\n",
            "5.\n",
            "6.\n",
            "7.\n",
            "8.\n",
            "9.\n"
          ]
        }
      ]
    },
    {
      "cell_type": "code",
      "source": [
        "#python IV\n",
        "#練習\n",
        "for i in range(1, 6):  #外部迴圈共執行5次\n",
        "  print(\"外部第\", i, \"次迴圈，內部執行\", i, \"次迴圈:  \", end=\"\")\n",
        "  for j in range(1, i+1): #內部迴圈\n",
        "    print(\"#\",  end=\"\")\n",
        "  print()"
      ],
      "metadata": {
        "colab": {
          "base_uri": "https://localhost:8080/"
        },
        "id": "jKQZ-ILdPwHG",
        "outputId": "5e7d797d-78bb-4d40-ddd3-8c5217a1a17d"
      },
      "execution_count": 11,
      "outputs": [
        {
          "output_type": "stream",
          "name": "stdout",
          "text": [
            "外部第 1 次迴圈，內部執行 1 次迴圈:  #\n",
            "外部第 2 次迴圈，內部執行 2 次迴圈:  ##\n",
            "外部第 3 次迴圈，內部執行 3 次迴圈:  ###\n",
            "外部第 4 次迴圈，內部執行 4 次迴圈:  ####\n",
            "外部第 5 次迴圈，內部執行 5 次迴圈:  #####\n"
          ]
        }
      ]
    },
    {
      "cell_type": "code",
      "source": [
        "#python IV\n",
        "#練習\n",
        "# 把符號#改成數字\n",
        "for i in range(1, 6):  #外部迴圈共執行5次\n",
        "  print(\"外部第\", i, \"次迴圈，內部執行\", i, \"次迴圈:  \", end=\"\")\n",
        "  for j in range(1, i+1): #內部迴圈\n",
        "    print(j,  end=\"\")\n",
        "  print()"
      ],
      "metadata": {
        "colab": {
          "base_uri": "https://localhost:8080/"
        },
        "id": "IJphY2uNSxXS",
        "outputId": "6dbf0211-503c-4a2c-b1e5-10b54c131afe"
      },
      "execution_count": 16,
      "outputs": [
        {
          "output_type": "stream",
          "name": "stdout",
          "text": [
            "外部第 1 次迴圈，內部執行 1 次迴圈:  1\n",
            "外部第 2 次迴圈，內部執行 2 次迴圈:  12\n",
            "外部第 3 次迴圈，內部執行 3 次迴圈:  123\n",
            "外部第 4 次迴圈，內部執行 4 次迴圈:  1234\n",
            "外部第 5 次迴圈，內部執行 5 次迴圈:  12345\n"
          ]
        }
      ]
    },
    {
      "cell_type": "code",
      "source": [
        "#python IV\n",
        "#練習\n",
        "t = int(input(\"請輸入正整數: \"))\n",
        "for i in range(1, t+1):  #外部迴圈共執行t次\n",
        "  print(\"外部第\", i, \"次迴圈，內部執行\", i, \"次迴圈:  \", end=\"\")\n",
        "  for j in range(1, i+1): #內部迴圈\n",
        "    print(j,  end=\"\")\n",
        "  print()"
      ],
      "metadata": {
        "colab": {
          "base_uri": "https://localhost:8080/"
        },
        "id": "klr6k9XoTT6Z",
        "outputId": "72382f9d-8556-4704-ee8f-d8b8b75594df"
      },
      "execution_count": 17,
      "outputs": [
        {
          "output_type": "stream",
          "name": "stdout",
          "text": [
            "請輸入正整數6\n",
            "外部第 1 次迴圈，內部執行 1 次迴圈:  1\n",
            "外部第 2 次迴圈，內部執行 2 次迴圈:  12\n",
            "外部第 3 次迴圈，內部執行 3 次迴圈:  123\n",
            "外部第 4 次迴圈，內部執行 4 次迴圈:  1234\n",
            "外部第 5 次迴圈，內部執行 5 次迴圈:  12345\n",
            "外部第 6 次迴圈，內部執行 6 次迴圈:  123456\n"
          ]
        }
      ]
    },
    {
      "cell_type": "code",
      "source": [
        "#python IV\n",
        "#HW4.3\n",
        "t = int(input(\"請輸入正整數: \"))\n",
        "for i in range(1, t+1):  #外部迴圈共執行t次\n",
        "#  print(\"外部第\", i, \"次迴圈，內部執行\", i, \"次迴圈:  \", end=\"\")\n",
        "  for j in range(1, i+1): #內部迴圈\n",
        "    print(j,  end=\"\")\n",
        "  print()"
      ],
      "metadata": {
        "colab": {
          "base_uri": "https://localhost:8080/"
        },
        "id": "F3x7ZfGaUfoS",
        "outputId": "b3b5ae9f-13f1-4d21-d56e-2b8ce10ceda7"
      },
      "execution_count": 18,
      "outputs": [
        {
          "output_type": "stream",
          "name": "stdout",
          "text": [
            "請輸入正整數: 6\n",
            "1\n",
            "12\n",
            "123\n",
            "1234\n",
            "12345\n",
            "123456\n"
          ]
        }
      ]
    }
  ]
}