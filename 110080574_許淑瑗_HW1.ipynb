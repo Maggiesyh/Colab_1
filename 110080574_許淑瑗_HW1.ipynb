{
  "nbformat": 4,
  "nbformat_minor": 0,
  "metadata": {
    "colab": {
      "provenance": [],
      "toc_visible": true,
      "authorship_tag": "ABX9TyMhmlY70oU5lUz2ploddGIj",
      "include_colab_link": true
    },
    "kernelspec": {
      "name": "python3",
      "display_name": "Python 3"
    },
    "language_info": {
      "name": "python"
    }
  },
  "cells": [
    {
      "cell_type": "markdown",
      "metadata": {
        "id": "view-in-github",
        "colab_type": "text"
      },
      "source": [
        "<a href=\"https://colab.research.google.com/github/Maggiesyh/Colab_1/blob/main/110080574_%E8%A8%B1%E6%B7%91%E7%91%97_HW1.ipynb\" target=\"_parent\"><img src=\"https://colab.research.google.com/assets/colab-badge.svg\" alt=\"Open In Colab\"/></a>"
      ]
    },
    {
      "cell_type": "code",
      "execution_count": 2,
      "metadata": {
        "colab": {
          "base_uri": "https://localhost:8080/"
        },
        "id": "9ZxoTzPU3akO",
        "outputId": "87b5d2cd-1741-41dd-85a1-a32024af5a10"
      },
      "outputs": [
        {
          "output_type": "stream",
          "name": "stdout",
          "text": [
            "請輸入長方形長度:12\n",
            "請輸入長方形高度:8\n",
            "長方形面積為：96.0\n"
          ]
        }
      ],
      "source": [
        "#HW1\n",
        "#calculare rectangular area\n",
        "length = float(input(\"請輸入長方形長度:\"))\n",
        "height = float(input(\"請輸入長方形高度:\"))\n",
        "area = length * height\n",
        "print(\"長方形面積為：\" + str(area))"
      ]
    },
    {
      "cell_type": "code",
      "source": [
        "#HW1.1\n",
        "import math\n",
        "crd_O = [4.013, 0.831, -9.083] # coordinate of atom O\n",
        "crd_H1 = [4.941, 0.844, -8.837] #coordinate of atom H1\n",
        "crd_H2 = [3.750, -0.068, -9.293] #coordinate of atom H2\n",
        "print(\"氧原子座標O\", crd_O)\n",
        "print(\"氫原子1座標H1\", crd_H1)\n",
        "print(\"氫原子2座標H2\", crd_H2)\n",
        "O_H1 = (crd_H1[0]-crd_O[0])**2 + (crd_H1[1]-crd_O[1])**2 + (crd_H1[2]-crd_O[2])**2\n",
        "bond_O_H1 = math.sqrt(O_H1)\n",
        "print(\"OH1的鍵長為：\" + str(bond_O_H1))\n",
        "O_H2 = (crd_H2[0]-crd_O[0])**2 + (crd_H2[1]-crd_O[1])**2 + (crd_H2[2]-crd_O[2])**2\n",
        "bond_O_H2 = math.sqrt(O_H2)\n",
        "print(\"OH2的鍵長為：\" + str(bond_O_H2))\n",
        "H1_H2 = (crd_H1[0]-crd_H2[0])**2 + (crd_H1[1]-crd_H2[1])**2 + (crd_H1[2]-crd_H2[2])**2\n",
        "bond_H1_H2 = math.sqrt(H1_H2)\n",
        "print(\"H1H2的鍵長為：\" + str(bond_H1_H2))"
      ],
      "metadata": {
        "colab": {
          "base_uri": "https://localhost:8080/"
        },
        "id": "r4lb3WHG4O-v",
        "outputId": "7a325815-07eb-404f-b35d-c3654e2d64e8"
      },
      "execution_count": 3,
      "outputs": [
        {
          "output_type": "stream",
          "name": "stdout",
          "text": [
            "氧原子座標O [4.013, 0.831, -9.083]\n",
            "氫原子1座標H1 [4.941, 0.844, -8.837]\n",
            "氫原子2座標H2 [3.75, -0.068, -9.293]\n",
            "OH1的鍵長為：0.9601400939446285\n",
            "OH2的鍵長為：0.95993228927878\n",
            "H1H2的鍵長為：1.5678523527424384\n"
          ]
        }
      ]
    },
    {
      "cell_type": "code",
      "source": [
        "#HW1.2\n",
        "e_O_O = 0.1550 #epson value\n",
        "d_O_O = 3.1536 #delta value\n",
        "crd_O1 = [0.073, 0.319, 0.695] # coordinate of atom O1\n",
        "crd_O2 = [0.517, 2.808, -0.388] # coordinate of atom O2\n",
        "O1_O2 = (crd_O1[0]-crd_O2[0])**2 + (crd_O1[1]-crd_O2[1])**2 + (crd_O1[2]-crd_O2[2])**2\n",
        "r_O_O = bond_O1_O2 = math.sqrt(O1_O2)\n",
        "#print(O1_O2)\n",
        "#print(bond_O1_O2)\n",
        "a = d_O_O / r_O_O\n",
        "#print(\"a\", a)\n",
        "v = 4 * e_O_O * (a ** 12 - a ** 6) # potential energy between 2 water molecules\n",
        "print(\"兩個水分子之間的凡得瓦作用位能 = \" + str(v))"
      ],
      "metadata": {
        "colab": {
          "base_uri": "https://localhost:8080/"
        },
        "id": "JMAFO_tr4cov",
        "outputId": "ee49aaa9-3d69-4590-85da-0e2375e70aa7"
      },
      "execution_count": 4,
      "outputs": [
        {
          "output_type": "stream",
          "name": "stdout",
          "text": [
            "兩個水分子之間的凡得瓦作用位能 = 1.791552983665713\n"
          ]
        }
      ]
    },
    {
      "cell_type": "code",
      "source": [
        "#HW2.1\n",
        "#輸入字串並印出\n",
        "#請輸入學系英文縮寫、學號、姓名，並用底線做區隔\n",
        "student_inf = str(input(\"請輸入學系英文縮寫＋學號＋姓名:\"))\n",
        "#print(\"請輸入學系英文縮寫＋學號＋姓名:\"+str(student_inf))\n",
        "s = student_inf.split(\"_\")\n",
        "print(\"學系英文縮寫為:\"+str(s[0]))\n",
        "print(\"學號為:\"+str(s[1]))\n",
        "print(\"姓名為:\"+str(s[2]))"
      ],
      "metadata": {
        "colab": {
          "base_uri": "https://localhost:8080/"
        },
        "id": "IgLXMykg4k-2",
        "outputId": "d7efc7e0-19c3-473d-cddf-c263d6130656"
      },
      "execution_count": 5,
      "outputs": [
        {
          "output_type": "stream",
          "name": "stdout",
          "text": [
            "請輸入學系英文縮寫＋學號＋姓名:NTHUIBSB_110080574_許淑瑗\n",
            "學系英文縮寫為:NTHUIBSB\n",
            "學號為:110080574\n",
            "姓名為:許淑瑗\n"
          ]
        }
      ]
    },
    {
      "cell_type": "code",
      "source": [
        "#HW2.2\n",
        "#輸出成績、統計成績、成績排序\n",
        "import numpy as np\n",
        "import statistics\n",
        "score_1 = int(input(\"請輸入1號同學成績:\"))\n",
        "score_2 = int(input(\"請輸入2號同學成績:\"))\n",
        "score_3 = int(input(\"請輸入3號同學成績:\"))\n",
        "score_4 = int(input(\"請輸入4號同學成績:\"))\n",
        "score = [score_1, score_2, score_3, score_4]\n",
        "#print(score)\n",
        "student_id = int(input(\"請輸入同學編號，以印出成績:\"))\n",
        "#student_id -= 1\n",
        "#print(\"第\"+str(student_id)+\"位同學成績為:\", str(score[a]))\n",
        "print(\"第\"+str(student_id)+\"位同學成績為:\", score[student_id-1])\n",
        "print(\"四位同學成績平均為:\", float(statistics.mean(score)))\n",
        "print(\"四位同學成績樣本標準差為:\", statistics.stdev(score))\n",
        "score.sort()\n",
        "score.reverse()\n",
        "print(\"成績由大到小排序為:\",str(score))"
      ],
      "metadata": {
        "colab": {
          "base_uri": "https://localhost:8080/"
        },
        "id": "h_Py7X8C5QhW",
        "outputId": "f39ce5ec-6c94-499c-b87a-fd955e12cff7"
      },
      "execution_count": 6,
      "outputs": [
        {
          "output_type": "stream",
          "name": "stdout",
          "text": [
            "請輸入1號同學成績:10\n",
            "請輸入2號同學成績:20\n",
            "請輸入3號同學成績:30\n",
            "請輸入4號同學成績:40\n",
            "請輸入同學編號，以印出成績:2\n",
            "第2位同學成績為: 20\n",
            "四位同學成績平均為: 25.0\n",
            "四位同學成績樣本標準差為: 12.909944487358056\n",
            "成績由大到小排序為: [40, 30, 20, 10]\n"
          ]
        }
      ]
    }
  ]
}