{
  "nbformat": 4,
  "nbformat_minor": 0,
  "metadata": {
    "colab": {
      "provenance": [],
      "authorship_tag": "ABX9TyOTkm5t9ZSg0FM+wP89StzY",
      "include_colab_link": true
    },
    "kernelspec": {
      "name": "python3",
      "display_name": "Python 3"
    },
    "language_info": {
      "name": "python"
    }
  },
  "cells": [
    {
      "cell_type": "markdown",
      "metadata": {
        "id": "view-in-github",
        "colab_type": "text"
      },
      "source": [
        "<a href=\"https://colab.research.google.com/github/Maggiesyh/Colab_1/blob/main/HW3.ipynb\" target=\"_parent\"><img src=\"https://colab.research.google.com/assets/colab-badge.svg\" alt=\"Open In Colab\"/></a>"
      ]
    },
    {
      "cell_type": "code",
      "execution_count": 1,
      "metadata": {
        "colab": {
          "base_uri": "https://localhost:8080/"
        },
        "id": "KBy-EBqLNP-u",
        "outputId": "7f046a1b-bd42-43d6-8fd9-38b16fcb7184"
      },
      "outputs": [
        {
          "output_type": "stream",
          "name": "stdout",
          "text": [
            "輸入一個數字判斷是否為質數13\n",
            "13 是質數\n"
          ]
        }
      ],
      "source": [
        "#練習\n",
        "#輸入一個整數判斷是否為質數\n",
        "n = int(input(\"輸入一個數字判斷是否為質數\"))\n",
        "\n",
        "for i in range(2, n):\n",
        "    if n % i == 0:  #整除的話，i是n的因數，所以n不是質數。\n",
        "        break\n",
        "\n",
        "if n == 2:\n",
        "   print(n,\"是質數\")\n",
        "elif i != n-1:  #在2~n-1之間出現n的因數\n",
        "   print(n,\"不是質數\")\n",
        "else:\n",
        "   print(n,\"是質數\")"
      ]
    },
    {
      "cell_type": "code",
      "source": [
        "#練習\n",
        "#求100之內的質數\n",
        "p_list=[]\n",
        "x = int(input(\"輸入一個數字判斷是否為質數 \"))\n",
        "for n in range(2,x+1):\n",
        "  for i in range(2, n):\n",
        "     if n % i == 0:  #整除的話，i是n的因數，所以n不是質數。\n",
        "          break\n",
        "\n",
        "  if n == 2:\n",
        "     #print(n,\"是質數\")\n",
        "     p_list.append(n)\n",
        "  elif i != n-1:  #在2~n-1之間出現n的因數\n",
        "      p_list = p_list\n",
        "     #print(n,\"不是質數\")\n",
        "  else:\n",
        "      #print(n,\"是質數\")\n",
        "      p_list.append(n)\n",
        "print(p_list)"
      ],
      "metadata": {
        "colab": {
          "base_uri": "https://localhost:8080/"
        },
        "id": "Ze3LFDmGO46-",
        "outputId": "efff4122-4a2f-47f8-a650-8c8f20992b18"
      },
      "execution_count": 18,
      "outputs": [
        {
          "output_type": "stream",
          "name": "stdout",
          "text": [
            "輸入一個數字判斷是否為質數100\n",
            "[2, 3, 5, 7, 11, 13, 17, 19, 23, 29, 31, 37, 41, 43, 47, 53, 59, 61, 67, 71, 73, 79, 83, 89, 97]\n"
          ]
        }
      ]
    },
    {
      "cell_type": "code",
      "source": [
        "#練習\n",
        "#求100之內的質數\n",
        "for n in range(100):\n",
        "  if n > 1:\n",
        "    for i in range(2,n):\n",
        "        if n % i == 0:\n",
        "                break\n",
        "    if i == n-1:     #n只能被自己本身整除\n",
        "            print(n)\n"
      ],
      "metadata": {
        "colab": {
          "base_uri": "https://localhost:8080/"
        },
        "id": "QpD0F3QGVnHc",
        "outputId": "c76818e2-d9fe-4913-a43f-9ab7471d9a9a"
      },
      "execution_count": 19,
      "outputs": [
        {
          "output_type": "stream",
          "name": "stdout",
          "text": [
            "3\n",
            "5\n",
            "7\n",
            "11\n",
            "13\n",
            "17\n",
            "19\n",
            "23\n",
            "29\n",
            "31\n",
            "37\n",
            "41\n",
            "43\n",
            "47\n",
            "53\n",
            "59\n",
            "61\n",
            "67\n",
            "71\n",
            "73\n",
            "79\n",
            "83\n",
            "89\n",
            "97\n"
          ]
        }
      ]
    },
    {
      "cell_type": "code",
      "source": [
        "#HW4.5練習\n",
        "Test_name = ['Exam1','Midterm','Exam2','Final']\n"
      ],
      "metadata": {
        "id": "jkECmvvuOcDz"
      },
      "execution_count": null,
      "outputs": []
    }
  ]
}