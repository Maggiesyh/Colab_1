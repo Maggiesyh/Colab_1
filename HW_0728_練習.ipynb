{
  "nbformat": 4,
  "nbformat_minor": 0,
  "metadata": {
    "colab": {
      "provenance": [],
      "authorship_tag": "ABX9TyNjS3mmsnGVP1fN/5gynn3W",
      "include_colab_link": true
    },
    "kernelspec": {
      "name": "python3",
      "display_name": "Python 3"
    },
    "language_info": {
      "name": "python"
    }
  },
  "cells": [
    {
      "cell_type": "markdown",
      "metadata": {
        "id": "view-in-github",
        "colab_type": "text"
      },
      "source": [
        "<a href=\"https://colab.research.google.com/github/Maggiesyh/Colab_1/blob/main/HW_0728_%E7%B7%B4%E7%BF%92.ipynb\" target=\"_parent\"><img src=\"https://colab.research.google.com/assets/colab-badge.svg\" alt=\"Open In Colab\"/></a>"
      ]
    },
    {
      "cell_type": "code",
      "execution_count": null,
      "metadata": {
        "id": "puEZyuyG-hOg"
      },
      "outputs": [],
      "source": [
        "#practice\n",
        "vec = [-4, -2, 0, 2, 4]\n",
        ">>> [x*2 for x in vec]            # => [-8, -4, 0, 4, 8]\n",
        ">>> [x for x in vec if x >= 0] # => [0, 2, 4]\n",
        ">>> [abs(x) for x in vec]        # => [4, 2, 0, 2, 4]\n",
        "\n",
        ">>> freshfruit = [' banana', ' loganberry ', 'passion fruit ‘]\n",
        ">>> [weapon.strip() for weapon in freshfruit] # => ['banana', 'loganberry', 'passion fruit’]\n",
        "\n",
        ">>> [(x, x**2) for x in range(6)] # => [(0, 0), (1, 1), (2, 4), (3, 9), (4, 16), (5, 25)]\n",
        "\n",
        ">>> vec = [[1,2,3], [4,5,6], [7,8,9]]\n",
        ">>> [num for elem in vec for num in elem]"
      ]
    },
    {
      "cell_type": "code",
      "source": [
        "#Python VI\n",
        "#傳統\n",
        "a=[]\n",
        "for x in range(3):\n",
        "  if x < 2:\n",
        "    a.append(x)\n",
        "print(a)"
      ],
      "metadata": {
        "colab": {
          "base_uri": "https://localhost:8080/"
        },
        "id": "w9QjO_5RLIYx",
        "outputId": "a3f0a46d-9824-44bc-8068-9a03cfa3f77c"
      },
      "execution_count": 2,
      "outputs": [
        {
          "output_type": "stream",
          "name": "stdout",
          "text": [
            "[0, 1]\n"
          ]
        }
      ]
    },
    {
      "cell_type": "code",
      "source": [
        "#Python VI\n",
        "#new\n",
        "a = [x for x in range(3) if x < 2]\n",
        "print(a)"
      ],
      "metadata": {
        "colab": {
          "base_uri": "https://localhost:8080/"
        },
        "id": "DNSFUnpZMIng",
        "outputId": "0bd7f31c-e1a1-49bc-ef57-7284674abedd"
      },
      "execution_count": 3,
      "outputs": [
        {
          "output_type": "stream",
          "name": "stdout",
          "text": [
            "[0, 1]\n"
          ]
        }
      ]
    },
    {
      "cell_type": "code",
      "source": [
        "#Python VI\n",
        "#傳統\n",
        "a=[]\n",
        "for x in range(7):\n",
        "  if x % 2: #求餘數 if 0 False, if 1 True\n",
        "    if x % 3:\n",
        "      a.append(x)\n",
        "print(a)"
      ],
      "metadata": {
        "colab": {
          "base_uri": "https://localhost:8080/"
        },
        "id": "OXz0yI9GL513",
        "outputId": "a1b91eaa-92a8-4819-d159-1ee3d655ec86"
      },
      "execution_count": 4,
      "outputs": [
        {
          "output_type": "stream",
          "name": "stdout",
          "text": [
            "[1, 5]\n"
          ]
        }
      ]
    },
    {
      "cell_type": "code",
      "source": [
        "#Python VI\n",
        "#new\n",
        "a = [x for x in range(7) if x % 2  if x % 3 ]\n",
        "print(a)"
      ],
      "metadata": {
        "colab": {
          "base_uri": "https://localhost:8080/"
        },
        "id": "9yWuN1AIMicr",
        "outputId": "c8452494-fb3a-42ea-f021-7240b9f19389"
      },
      "execution_count": 12,
      "outputs": [
        {
          "output_type": "stream",
          "name": "stdout",
          "text": [
            "[1, 5]\n"
          ]
        }
      ]
    },
    {
      "cell_type": "code",
      "source": [],
      "metadata": {
        "id": "vL1Yt_VQNcxz"
      },
      "execution_count": null,
      "outputs": []
    },
    {
      "cell_type": "code",
      "source": [
        "#用*來unpacking\n",
        "IP = (140, 114, (46, 47))\n",
        "TANet, NTHU, CHE = IP #assign\n",
        "\n",
        "print(TANet, type(TANet))\n",
        "print(NTHU, type(NTHU))\n",
        "print(CHE, type(CHE))"
      ],
      "metadata": {
        "colab": {
          "base_uri": "https://localhost:8080/"
        },
        "id": "xcgQApgwNsGJ",
        "outputId": "bf6a9fd5-4624-4ade-fd38-dd1870e85414"
      },
      "execution_count": 13,
      "outputs": [
        {
          "output_type": "stream",
          "name": "stdout",
          "text": [
            "140 <class 'int'>\n",
            "114 <class 'int'>\n",
            "(46, 47) <class 'tuple'>\n"
          ]
        }
      ]
    },
    {
      "cell_type": "code",
      "source": [
        "#用*來unpacking\n",
        "IP = (140, 114, (46, 47))\n",
        "TANet, NTHU, (CHE1, CHE2) = IP\n",
        "\n",
        "print(TANet, type(TANet))\n",
        "print(NTHU, type(NTHU))\n",
        "print(CHE1, type(CHE1))\n",
        "print(CHE2, type(CHE2))"
      ],
      "metadata": {
        "colab": {
          "base_uri": "https://localhost:8080/"
        },
        "id": "ERaViFEUSe12",
        "outputId": "62219918-696b-4034-f502-dfcfd99f65ec"
      },
      "execution_count": 15,
      "outputs": [
        {
          "output_type": "stream",
          "name": "stdout",
          "text": [
            "140 <class 'int'>\n",
            "114 <class 'int'>\n",
            "46 <class 'int'>\n",
            "47 <class 'int'>\n",
            "140 <class 'int'>\n",
            "114 <class 'int'>\n",
            "46 <class 'int'>\n",
            "47 <class 'int'>\n"
          ]
        }
      ]
    },
    {
      "cell_type": "code",
      "source": [
        "#用底線\"_\"來drop資料\n",
        "IP = (140, 114, (46, 47))\n",
        "TANet, NTHU, _ = IP\n",
        "\n",
        "print(TANet, type(TANet))\n",
        "print(NTHU, type(NTHU))\n",
        "print( _, type( _ ))\n"
      ],
      "metadata": {
        "colab": {
          "base_uri": "https://localhost:8080/"
        },
        "id": "HEJbwMpaTJ9m",
        "outputId": "2b6891f4-0089-412f-c770-db43b74d6cdf"
      },
      "execution_count": 16,
      "outputs": [
        {
          "output_type": "stream",
          "name": "stdout",
          "text": [
            "140 <class 'int'>\n",
            "114 <class 'int'>\n",
            "(46, 47) <class 'tuple'>\n"
          ]
        }
      ]
    },
    {
      "cell_type": "code",
      "source": [],
      "metadata": {
        "id": "L5cQ-2hmTLQf"
      },
      "execution_count": null,
      "outputs": []
    },
    {
      "cell_type": "code",
      "source": [],
      "metadata": {
        "id": "TPJxZVFTTpV3"
      },
      "execution_count": null,
      "outputs": []
    },
    {
      "cell_type": "code",
      "source": [],
      "metadata": {
        "id": "xePr0yjRTMC7"
      },
      "execution_count": null,
      "outputs": []
    }
  ]
}